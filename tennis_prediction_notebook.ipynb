{
 "cells": [
  {
   "cell_type": "code",
   "execution_count": 1,
   "metadata": {
    "ExecuteTime": {
     "end_time": "2021-02-03T22:53:03.614170Z",
     "start_time": "2021-02-03T22:53:01.476576Z"
    }
   },
   "outputs": [],
   "source": [
    "import matplotlib\n",
    "import matplotlib.pyplot as plt\n",
    "import numpy as np\n",
    "import pandas as pd \n",
    "import pickle\n",
    "import os.path as osp\n",
    "import os\n",
    "import logging\n",
    "import random\n",
    "import seaborn as sns\n",
    "import warnings\n",
    "import xgboost as xgb\n",
    "import zipfile\n",
    "\n",
    "from glob import glob\n",
    "from pandas import Timestamp\n",
    "from sklearn.impute import SimpleImputer\n",
    "from sklearn.linear_model import LogisticRegression\n",
    "from sklearn.metrics import accuracy_score, plot_confusion_matrix\n",
    "from tqdm.notebook import tqdm\n",
    "from urllib.request import urlopen \n",
    "\n",
    "logging.getLogger().setLevel('INFO')\n",
    "warnings.simplefilter(action='ignore', category=FutureWarning)\n",
    "tqdm.pandas()"
   ]
  },
  {
   "cell_type": "markdown",
   "metadata": {},
   "source": [
    "## Helpers"
   ]
  },
  {
   "cell_type": "code",
   "execution_count": 2,
   "metadata": {
    "ExecuteTime": {
     "end_time": "2021-02-03T22:53:03.623252Z",
     "start_time": "2021-02-03T22:53:03.616610Z"
    }
   },
   "outputs": [],
   "source": [
    "def download_file(url_str, path):\n",
    "    url = urlopen(url_str)\n",
    "    output = open(path, 'wb')       \n",
    "    output.write(url.read())\n",
    "    output.close()  \n",
    "    \n",
    "def extract_file(archive_path, target_dir):\n",
    "    zip_file = zipfile.ZipFile(archive_path, 'r')\n",
    "    zip_file.extractall(target_dir)\n",
    "    zip_file.close()"
   ]
  },
  {
   "cell_type": "markdown",
   "metadata": {},
   "source": [
    "## Download the dataset"
   ]
  },
  {
   "cell_type": "code",
   "execution_count": 3,
   "metadata": {
    "ExecuteTime": {
     "end_time": "2021-02-03T22:53:31.834998Z",
     "start_time": "2021-02-03T22:53:03.627994Z"
    }
   },
   "outputs": [
    {
     "name": "stderr",
     "output_type": "stream",
     "text": [
      "INFO:root:downloading & extracting file http://tennis-data.co.uk/2000/2000.zip\n",
      "INFO:root:downloading & extracting file http://tennis-data.co.uk/2001/2001.zip\n",
      "INFO:root:downloading & extracting file http://tennis-data.co.uk/2002/2002.zip\n",
      "INFO:root:downloading & extracting file http://tennis-data.co.uk/2003/2003.zip\n",
      "INFO:root:downloading & extracting file http://tennis-data.co.uk/2004/2004.zip\n",
      "INFO:root:downloading & extracting file http://tennis-data.co.uk/2005/2005.zip\n",
      "INFO:root:downloading & extracting file http://tennis-data.co.uk/2006/2006.zip\n",
      "INFO:root:downloading & extracting file http://tennis-data.co.uk/2007/2007.zip\n",
      "INFO:root:downloading & extracting file http://tennis-data.co.uk/2008/2008.zip\n",
      "INFO:root:downloading & extracting file http://tennis-data.co.uk/2009/2009.zip\n",
      "INFO:root:downloading & extracting file http://tennis-data.co.uk/2010/2010.zip\n",
      "INFO:root:downloading & extracting file http://tennis-data.co.uk/2011/2011.zip\n",
      "INFO:root:downloading & extracting file http://tennis-data.co.uk/2012/2012.zip\n",
      "INFO:root:downloading & extracting file http://tennis-data.co.uk/2013/2013.zip\n",
      "INFO:root:downloading & extracting file http://tennis-data.co.uk/2014/2014.zip\n",
      "INFO:root:downloading & extracting file http://tennis-data.co.uk/2015/2015.zip\n",
      "INFO:root:downloading & extracting file http://tennis-data.co.uk/2016/2016.zip\n",
      "INFO:root:downloading & extracting file http://tennis-data.co.uk/2017/2017.zip\n",
      "INFO:root:downloading & extracting file http://tennis-data.co.uk/2018/2018.zip\n",
      "INFO:root:downloading & extracting file http://tennis-data.co.uk/2007w/2007.zip\n",
      "INFO:root:downloading & extracting file http://tennis-data.co.uk/2008w/2008.zip\n",
      "INFO:root:downloading & extracting file http://tennis-data.co.uk/2009w/2009.zip\n",
      "INFO:root:downloading & extracting file http://tennis-data.co.uk/2010w/2010.zip\n",
      "INFO:root:downloading & extracting file http://tennis-data.co.uk/2011w/2011.zip\n",
      "INFO:root:downloading & extracting file http://tennis-data.co.uk/2012w/2012.zip\n",
      "INFO:root:downloading & extracting file http://tennis-data.co.uk/2013w/2013.zip\n",
      "INFO:root:downloading & extracting file http://tennis-data.co.uk/2014w/2014.zip\n",
      "INFO:root:downloading & extracting file http://tennis-data.co.uk/2015w/2015.zip\n",
      "INFO:root:downloading & extracting file http://tennis-data.co.uk/2016w/2016.zip\n",
      "INFO:root:downloading & extracting file http://tennis-data.co.uk/2017w/2017.zip\n",
      "INFO:root:downloading & extracting file http://tennis-data.co.uk/2018w/2018.zip\n",
      "/Users/matyasamrouche/Documents/Entretiens/Javaness/javaness_env/lib/python3.6/site-packages/openpyxl/worksheet/_reader.py:308: UserWarning: Unknown extension is not supported and will be removed\n",
      "  warn(msg)\n",
      "INFO:root:52298 matches ATP in df_atp\n",
      "INFO:root:29581 matches WTA in df_wta\n"
     ]
    }
   ],
   "source": [
    "BASE_URL = 'http://tennis-data.co.uk'\n",
    "DATA_DIR = \"tennis_data\"\n",
    "ATP_DIR = './{}/ATP'.format(DATA_DIR)\n",
    "WTA_DIR = './{}/WTA'.format(DATA_DIR)\n",
    "\n",
    "ATP_URLS = [BASE_URL + \"/%i/%i.zip\" % (i,i) for i in range(2000,2019)]\n",
    "WTA_URLS = [BASE_URL + \"/%iw/%i.zip\" % (i,i) for i in range(2007,2019)]\n",
    "\n",
    "os.makedirs(osp.join(ATP_DIR, 'archives'), exist_ok=True)\n",
    "os.makedirs(osp.join(WTA_DIR, 'archives'), exist_ok=True)\n",
    "\n",
    "for files, directory in ((ATP_URLS, ATP_DIR), (WTA_URLS, WTA_DIR)):\n",
    "    for dl_path in files:\n",
    "        logging.info(\"downloading & extracting file %s\", dl_path)\n",
    "        archive_path = osp.join(directory, 'archives', osp.basename(dl_path))\n",
    "        download_file(dl_path, archive_path)\n",
    "        extract_file(archive_path, directory)\n",
    "   \n",
    "ATP_FILES = sorted(glob(\"%s/*.xls*\" % ATP_DIR))\n",
    "WTA_FILES = sorted(glob(\"%s/*.xls*\" % WTA_DIR))\n",
    "\n",
    "# Issue when loading '.xlsx' file, must use 'openpyxl' in this case\n",
    "df_atp = pd.concat([pd.read_excel(f) if f[-1]=='s' else pd.read_excel(f, engine='openpyxl') for f in ATP_FILES], ignore_index=True)\n",
    "df_wta = pd.concat([pd.read_excel(f) if f[-1]=='s' else pd.read_excel(f, engine='openpyxl') for f in WTA_FILES], ignore_index=True)\n",
    "\n",
    "logging.info(\"%i matches ATP in df_atp\", df_atp.shape[0])\n",
    "logging.info(\"%i matches WTA in df_wta\", df_wta.shape[0])"
   ]
  },
  {
   "cell_type": "markdown",
   "metadata": {},
   "source": [
    "## Your work"
   ]
  },
  {
   "cell_type": "markdown",
   "metadata": {},
   "source": [
    "### Questions"
   ]
  },
  {
   "cell_type": "markdown",
   "metadata": {
    "heading_collapsed": true
   },
   "source": [
    "#### Question 1: Who are the three ATP players with the most wins ?"
   ]
  },
  {
   "cell_type": "code",
   "execution_count": 4,
   "metadata": {
    "ExecuteTime": {
     "end_time": "2021-02-03T22:53:31.856660Z",
     "start_time": "2021-02-03T22:53:31.838743Z"
    },
    "hidden": true
   },
   "outputs": [
    {
     "data": {
      "text/plain": [
       "Winner\n",
       "Federer R.     1121\n",
       "Nadal R.        891\n",
       "Djokovic N.     802\n",
       "Name: Winner, dtype: int64"
      ]
     },
     "execution_count": 4,
     "metadata": {},
     "output_type": "execute_result"
    }
   ],
   "source": [
    "df_atp.groupby('Winner')['Winner'].count().sort_values(ascending=False)[0:3]"
   ]
  },
  {
   "cell_type": "markdown",
   "metadata": {
    "hidden": true
   },
   "source": [
    "The top 3 winners of the ATP between 2000-2018 are:\n",
    "- Federer R. with 1121 wins\n",
    "- Nadal R. with 891 wins\n",
    "- Djokovic N. with 802 wins"
   ]
  },
  {
   "cell_type": "markdown",
   "metadata": {
    "heading_collapsed": true
   },
   "source": [
    "#### Question 2: How many sets did the player “ Federer R.” win in total ?"
   ]
  },
  {
   "cell_type": "code",
   "execution_count": 5,
   "metadata": {
    "ExecuteTime": {
     "end_time": "2021-02-03T22:53:31.932602Z",
     "start_time": "2021-02-03T22:53:31.859042Z"
    },
    "hidden": true
   },
   "outputs": [
    {
     "data": {
      "text/plain": [
       "2695.0"
      ]
     },
     "execution_count": 5,
     "metadata": {},
     "output_type": "execute_result"
    }
   ],
   "source": [
    "sets_won_as_winner = pd.to_numeric(df_atp.loc[df_atp['Winner'] == 'Federer R.']['Wsets'], errors='coerce').sum() \n",
    "sets_won_as_loser = pd.to_numeric(df_atp.loc[df_atp['Loser'] == 'Federer R.']['Lsets'], errors='coerce').sum() \n",
    "\n",
    "total_sets_won = sets_won_as_winner + sets_won_as_loser\n",
    "total_sets_won"
   ]
  },
  {
   "cell_type": "markdown",
   "metadata": {
    "hidden": true
   },
   "source": [
    "Federer R. won **2695 sets** between 2000-2018."
   ]
  },
  {
   "cell_type": "markdown",
   "metadata": {
    "heading_collapsed": true
   },
   "source": [
    "#### Question 3: How many sets did the player “ Federer R.” win during the years 2016 and 2017 ?"
   ]
  },
  {
   "cell_type": "code",
   "execution_count": 6,
   "metadata": {
    "ExecuteTime": {
     "end_time": "2021-02-03T22:53:31.964338Z",
     "start_time": "2021-02-03T22:53:31.935296Z"
    },
    "hidden": true
   },
   "outputs": [
    {
     "data": {
      "text/plain": [
       "182.0"
      ]
     },
     "execution_count": 6,
     "metadata": {},
     "output_type": "execute_result"
    }
   ],
   "source": [
    "sets_won_as_winner_2016_2017 = pd.to_numeric(df_atp.loc[(df_atp['Winner'] == 'Federer R.') & \n",
    "                                                        (df_atp['Date'] >= Timestamp('2016-01-01 00:00:00')) &\n",
    "                                                        (df_atp['Date'] < Timestamp('2018-01-01 00:00:00'))]['Wsets'], errors='coerce').sum()\n",
    "\n",
    "sets_won_as_loser_2016_2017 = pd.to_numeric(df_atp.loc[(df_atp['Loser'] == 'Federer R.') & \n",
    "                                                       (df_atp['Date'] >= Timestamp('2016-01-01 00:00:00')) &\n",
    "                                                       (df_atp['Date'] < Timestamp('2018-01-01 00:00:00'))]['Lsets'], errors='coerce').sum()\n",
    "\n",
    "total_sets_won_2016_2017 = sets_won_as_winner_2016_2017 + sets_won_as_loser_2016_2017\n",
    "total_sets_won_2016_2017"
   ]
  },
  {
   "cell_type": "markdown",
   "metadata": {
    "hidden": true
   },
   "source": [
    "Federer R. won **182 sets** between in 2016 and 2017."
   ]
  },
  {
   "cell_type": "markdown",
   "metadata": {
    "heading_collapsed": true
   },
   "source": [
    "#### Question 4: For each match, what is the percentage of victories of the winner in the past ?"
   ]
  },
  {
   "cell_type": "code",
   "execution_count": 7,
   "metadata": {
    "ExecuteTime": {
     "end_time": "2021-02-03T22:53:31.978873Z",
     "start_time": "2021-02-03T22:53:31.966941Z"
    },
    "code_folding": [
     0
    ],
    "hidden": true
   },
   "outputs": [],
   "source": [
    "def compute_winner_past_win_ratio(df_atp):\n",
    "    \"\"\"\n",
    "    Compute the Winner past win ratio at the beginning of a each match. We use a DATA_CACHE in order to more \n",
    "    efficiently\n",
    "    \n",
    "    Inputs \n",
    "    --------\n",
    "    df_atp : DataFrame : original tennis match's dataframe\n",
    "    \n",
    "    Returns \n",
    "    --------\n",
    "    df_atp : DataFrame : dataframe with the computed 'Winner win ratio' column\n",
    "    \"\"\"\n",
    "    df_atp[\"Winner win ratio\"] = np.nan\n",
    "    \n",
    "    all_player_names = set(list(df_atp['Winner'].unique()) + list(df_atp['Loser'].unique()))\n",
    "    DATA_CACHE = {player_name: [0, 0] for player_name in all_player_names} # set all players to 0 match won, 0 match played\n",
    "\n",
    "    for index, row in tqdm(df_atp.iterrows(), total=df_atp.shape[0]):\n",
    "        # Winner has already played at least one match\n",
    "        if DATA_CACHE[row['Winner']][1] > 0:\n",
    "            win_ratio = round(DATA_CACHE[row['Winner']][0] / DATA_CACHE[row['Winner']][1], 4)\n",
    "            df_atp.loc[index, \"Winner win ratio\"] = win_ratio\n",
    "        \n",
    "        # One more match added to Winner won match and total number of match \n",
    "        DATA_CACHE[row['Winner']][0] += 1 \n",
    "        DATA_CACHE[row['Winner']][1] += 1\n",
    "        \n",
    "        # One more match added to Loser total number of match \n",
    "        DATA_CACHE[row['Loser']][1] += 1\n",
    "        \n",
    "    return df_atp"
   ]
  },
  {
   "cell_type": "code",
   "execution_count": 8,
   "metadata": {
    "ExecuteTime": {
     "end_time": "2021-02-03T22:53:59.222837Z",
     "start_time": "2021-02-03T22:53:31.983712Z"
    },
    "hidden": true
   },
   "outputs": [
    {
     "data": {
      "application/vnd.jupyter.widget-view+json": {
       "model_id": "040cb8fc2b284241b2ae3035968c9344",
       "version_major": 2,
       "version_minor": 0
      },
      "text/plain": [
       "  0%|          | 0/52298 [00:00<?, ?it/s]"
      ]
     },
     "metadata": {},
     "output_type": "display_data"
    }
   ],
   "source": [
    "df_atp = compute_winner_past_win_ratio(df_atp)"
   ]
  },
  {
   "cell_type": "code",
   "execution_count": 9,
   "metadata": {
    "ExecuteTime": {
     "end_time": "2021-02-03T22:53:59.248581Z",
     "start_time": "2021-02-03T22:53:59.225817Z"
    },
    "hidden": true
   },
   "outputs": [
    {
     "data": {
      "text/html": [
       "<div>\n",
       "<style scoped>\n",
       "    .dataframe tbody tr th:only-of-type {\n",
       "        vertical-align: middle;\n",
       "    }\n",
       "\n",
       "    .dataframe tbody tr th {\n",
       "        vertical-align: top;\n",
       "    }\n",
       "\n",
       "    .dataframe thead th {\n",
       "        text-align: right;\n",
       "    }\n",
       "</style>\n",
       "<table border=\"1\" class=\"dataframe\">\n",
       "  <thead>\n",
       "    <tr style=\"text-align: right;\">\n",
       "      <th></th>\n",
       "      <th>Tournament</th>\n",
       "      <th>Winner</th>\n",
       "      <th>Loser</th>\n",
       "      <th>Winner win ratio</th>\n",
       "    </tr>\n",
       "  </thead>\n",
       "  <tbody>\n",
       "    <tr>\n",
       "      <th>52288</th>\n",
       "      <td>Masters Cup</td>\n",
       "      <td>Federer R.</td>\n",
       "      <td>Thiem D.</td>\n",
       "      <td>0.8289</td>\n",
       "    </tr>\n",
       "    <tr>\n",
       "      <th>52289</th>\n",
       "      <td>Masters Cup</td>\n",
       "      <td>Djokovic N.</td>\n",
       "      <td>Zverev A.</td>\n",
       "      <td>0.8297</td>\n",
       "    </tr>\n",
       "    <tr>\n",
       "      <th>52290</th>\n",
       "      <td>Masters Cup</td>\n",
       "      <td>Cilic M.</td>\n",
       "      <td>Isner J.</td>\n",
       "      <td>0.6515</td>\n",
       "    </tr>\n",
       "    <tr>\n",
       "      <th>52291</th>\n",
       "      <td>Masters Cup</td>\n",
       "      <td>Thiem D.</td>\n",
       "      <td>Nishikori K.</td>\n",
       "      <td>0.6301</td>\n",
       "    </tr>\n",
       "    <tr>\n",
       "      <th>52292</th>\n",
       "      <td>Masters Cup</td>\n",
       "      <td>Federer R.</td>\n",
       "      <td>Anderson K.</td>\n",
       "      <td>0.8290</td>\n",
       "    </tr>\n",
       "    <tr>\n",
       "      <th>52293</th>\n",
       "      <td>Masters Cup</td>\n",
       "      <td>Zverev A.</td>\n",
       "      <td>Isner J.</td>\n",
       "      <td>0.6640</td>\n",
       "    </tr>\n",
       "    <tr>\n",
       "      <th>52294</th>\n",
       "      <td>Masters Cup</td>\n",
       "      <td>Djokovic N.</td>\n",
       "      <td>Cilic M.</td>\n",
       "      <td>0.8299</td>\n",
       "    </tr>\n",
       "    <tr>\n",
       "      <th>52295</th>\n",
       "      <td>Masters Cup</td>\n",
       "      <td>Zverev A.</td>\n",
       "      <td>Federer R.</td>\n",
       "      <td>0.6654</td>\n",
       "    </tr>\n",
       "    <tr>\n",
       "      <th>52296</th>\n",
       "      <td>Masters Cup</td>\n",
       "      <td>Djokovic N.</td>\n",
       "      <td>Anderson K.</td>\n",
       "      <td>0.8301</td>\n",
       "    </tr>\n",
       "    <tr>\n",
       "      <th>52297</th>\n",
       "      <td>Masters Cup</td>\n",
       "      <td>Zverev A.</td>\n",
       "      <td>Djokovic N.</td>\n",
       "      <td>0.6667</td>\n",
       "    </tr>\n",
       "  </tbody>\n",
       "</table>\n",
       "</div>"
      ],
      "text/plain": [
       "        Tournament       Winner         Loser  Winner win ratio\n",
       "52288  Masters Cup   Federer R.      Thiem D.            0.8289\n",
       "52289  Masters Cup  Djokovic N.     Zverev A.            0.8297\n",
       "52290  Masters Cup     Cilic M.      Isner J.            0.6515\n",
       "52291  Masters Cup     Thiem D.  Nishikori K.            0.6301\n",
       "52292  Masters Cup   Federer R.   Anderson K.            0.8290\n",
       "52293  Masters Cup    Zverev A.      Isner J.            0.6640\n",
       "52294  Masters Cup  Djokovic N.      Cilic M.            0.8299\n",
       "52295  Masters Cup    Zverev A.    Federer R.            0.6654\n",
       "52296  Masters Cup  Djokovic N.   Anderson K.            0.8301\n",
       "52297  Masters Cup    Zverev A.   Djokovic N.            0.6667"
      ]
     },
     "execution_count": 9,
     "metadata": {},
     "output_type": "execute_result"
    }
   ],
   "source": [
    "df_atp[['Tournament', 'Winner', 'Loser', 'Winner win ratio']].tail(10)"
   ]
  },
  {
   "cell_type": "markdown",
   "metadata": {},
   "source": [
    "### Tennis Match Prediction"
   ]
  },
  {
   "cell_type": "markdown",
   "metadata": {},
   "source": [
    "In this notebook, we predict the outcome (who is the winner) for each ATP tennis game during the year **2017**. \n",
    "\n",
    "During the model's training, we remained very careful about not corrupting our learnings with data from year 2017. To do so, year 2017 data remained untouched during our training/validation/analysis procedure. We simulate betting with 2 simple strategies on 2017 Tennis' matchs and show their potential gain. \n",
    "\n",
    "Table of contents of our approach:\n",
    "\n",
    "- **Data Preparation Process**:\n",
    "        - Data Checking & Cleaning \n",
    "        - Randomization of dataset\n",
    "        - Categorical Encoding & Features Engineering\n",
    "        - Data Normalization with respect to dataset timeline\n",
    "\n",
    "- **Modeling Phase**:\n",
    "        - Training/Validation: Logistic Regression\n",
    "        - Training/Validation: XGBoost\n",
    "        - Training/Evaluation \n",
    "        \n",
    "        \n",
    "- **Observation/Explanation**:\n",
    "        - Features Importance\n",
    "        - Errors Analysis\n",
    "        \n",
    "- **Trying to make € out of our Tennis predictor**\n",
    "\n",
    "\n",
    "- **Potential improvements**\n",
    "\n"
   ]
  },
  {
   "cell_type": "markdown",
   "metadata": {},
   "source": [
    "#### Data Preparation Process"
   ]
  },
  {
   "cell_type": "code",
   "execution_count": 10,
   "metadata": {
    "ExecuteTime": {
     "end_time": "2021-02-03T22:53:59.286727Z",
     "start_time": "2021-02-03T22:53:59.260626Z"
    }
   },
   "outputs": [],
   "source": [
    "# From this point, we work with data from 2000 to end of 2017 only\n",
    "df_atp = df_atp.loc[df_atp['Date'] < Timestamp('2018-01-01 00:00:00')]"
   ]
  },
  {
   "cell_type": "markdown",
   "metadata": {},
   "source": [
    "##### Data Checking & Cleaning "
   ]
  },
  {
   "cell_type": "code",
   "execution_count": 11,
   "metadata": {
    "ExecuteTime": {
     "end_time": "2021-02-03T22:53:59.349964Z",
     "start_time": "2021-02-03T22:53:59.292291Z"
    },
    "scrolled": true
   },
   "outputs": [
    {
     "name": "stdout",
     "output_type": "stream",
     "text": [
      "<class 'pandas.core.frame.DataFrame'>\n",
      "Int64Index: 49663 entries, 0 to 49662\n",
      "Data columns (total 55 columns):\n",
      " #   Column            Non-Null Count  Dtype         \n",
      "---  ------            --------------  -----         \n",
      " 0   ATP               49663 non-null  int64         \n",
      " 1   Location          49663 non-null  object        \n",
      " 2   Tournament        49663 non-null  object        \n",
      " 3   Date              49663 non-null  datetime64[ns]\n",
      " 4   Series            49663 non-null  object        \n",
      " 5   Court             49663 non-null  object        \n",
      " 6   Surface           49663 non-null  object        \n",
      " 7   Round             49663 non-null  object        \n",
      " 8   Best of           49663 non-null  int64         \n",
      " 9   Winner            49663 non-null  object        \n",
      " 10  Loser             49663 non-null  object        \n",
      " 11  WRank             49648 non-null  object        \n",
      " 12  LRank             49586 non-null  object        \n",
      " 13  W1                49415 non-null  float64       \n",
      " 14  L1                49416 non-null  float64       \n",
      " 15  W2                48921 non-null  object        \n",
      " 16  L2                48922 non-null  object        \n",
      " 17  W3                22873 non-null  object        \n",
      " 18  L3                22872 non-null  object        \n",
      " 19  W4                4466 non-null   float64       \n",
      " 20  L4                4466 non-null   float64       \n",
      " 21  W5                1700 non-null   float64       \n",
      " 22  L5                1700 non-null   float64       \n",
      " 23  Wsets             49453 non-null  float64       \n",
      " 24  Lsets             49453 non-null  object        \n",
      " 25  Comment           49663 non-null  object        \n",
      " 26  CBW               17506 non-null  float64       \n",
      " 27  CBL               17506 non-null  float64       \n",
      " 28  GBW               5055 non-null   float64       \n",
      " 29  GBL               5055 non-null   float64       \n",
      " 30  IWW               13358 non-null  float64       \n",
      " 31  IWL               13358 non-null  float64       \n",
      " 32  SBW               5424 non-null   float64       \n",
      " 33  SBL               5424 non-null   float64       \n",
      " 34  B365W             41021 non-null  float64       \n",
      " 35  B365L             41044 non-null  float64       \n",
      " 36  B&WW              1097 non-null   float64       \n",
      " 37  B&WL              1097 non-null   float64       \n",
      " 38  EXW               36795 non-null  object        \n",
      " 39  EXL               36800 non-null  float64       \n",
      " 40  PSW               34724 non-null  float64       \n",
      " 41  PSL               34724 non-null  float64       \n",
      " 42  WPts              33459 non-null  float64       \n",
      " 43  LPts              33401 non-null  float64       \n",
      " 44  UBW               10671 non-null  float64       \n",
      " 45  UBL               10671 non-null  float64       \n",
      " 46  LBW               25971 non-null  float64       \n",
      " 47  LBL               25982 non-null  float64       \n",
      " 48  SJW               15572 non-null  float64       \n",
      " 49  SJL               15579 non-null  float64       \n",
      " 50  MaxW              20111 non-null  float64       \n",
      " 51  MaxL              20111 non-null  float64       \n",
      " 52  AvgW              20111 non-null  float64       \n",
      " 53  AvgL              20111 non-null  float64       \n",
      " 54  Winner win ratio  49249 non-null  float64       \n",
      "dtypes: datetime64[ns](1), float64(35), int64(2), object(17)\n",
      "memory usage: 21.2+ MB\n"
     ]
    }
   ],
   "source": [
    "# Checking data type and NaN values for each feature\n",
    "df_atp.info()"
   ]
  },
  {
   "cell_type": "markdown",
   "metadata": {},
   "source": [
    "There are several ways of dealing with **NaN** values, one can replace them with the mean of the associated feature. We use this approach in the Modeling Phase part for the Logistic Regression model which can't handle missing values. However, our XGBoostClassifier approach handles missing values, hence no processing needed NaN values. Which is an appreciable point given that:\n",
    "- some features should remain NaN (like the number of games won during the fifth set of best of 3 match). \n",
    "- replacement values by statistics (mean, median...) can biased the data and hurt the model's performance. \n",
    "\n",
    "Besides, regarding the informative table above, there is no full NaN rows in the dataset, meaning all the rows are exploitable.\n",
    "\n",
    "We also observe from the above info table that the following statistical features are **object** type instead of **numerical** one: \n",
    "- **WRank** \n",
    "- **LRank** \n",
    "- **W2** \n",
    "- **L2** \n",
    "- **W3** \n",
    "- **L3** \n",
    "- **Lsets** \n",
    "- **EXW** \n",
    "\n",
    "So let's change all those features to numeric values."
   ]
  },
  {
   "cell_type": "code",
   "execution_count": 12,
   "metadata": {
    "ExecuteTime": {
     "end_time": "2021-02-03T22:53:59.504893Z",
     "start_time": "2021-02-03T22:53:59.352068Z"
    }
   },
   "outputs": [
    {
     "data": {
      "text/plain": [
       "WRank    float64\n",
       "LRank    float64\n",
       "W2       float64\n",
       "L2       float64\n",
       "W3       float64\n",
       "L3       float64\n",
       "Lsets    float64\n",
       "EXW      float64\n",
       "dtype: object"
      ]
     },
     "execution_count": 12,
     "metadata": {},
     "output_type": "execute_result"
    }
   ],
   "source": [
    "df_atp[['WRank', 'LRank', 'W2', 'L2', 'W3', 'L3', 'Lsets', 'EXW']] = df_atp[['WRank', 'LRank', 'W2', 'L2', 'W3', 'L3', 'Lsets', 'EXW']].apply(pd.to_numeric, errors='coerce')\n",
    "df_atp[['WRank', 'LRank', 'W2', 'L2', 'W3', 'L3', 'Lsets', 'EXW']].dtypes"
   ]
  },
  {
   "cell_type": "code",
   "execution_count": 13,
   "metadata": {
    "ExecuteTime": {
     "end_time": "2021-02-03T22:53:59.751029Z",
     "start_time": "2021-02-03T22:53:59.506991Z"
    },
    "scrolled": true
   },
   "outputs": [
    {
     "data": {
      "text/html": [
       "<div>\n",
       "<style scoped>\n",
       "    .dataframe tbody tr th:only-of-type {\n",
       "        vertical-align: middle;\n",
       "    }\n",
       "\n",
       "    .dataframe tbody tr th {\n",
       "        vertical-align: top;\n",
       "    }\n",
       "\n",
       "    .dataframe thead th {\n",
       "        text-align: right;\n",
       "    }\n",
       "</style>\n",
       "<table border=\"1\" class=\"dataframe\">\n",
       "  <thead>\n",
       "    <tr style=\"text-align: right;\">\n",
       "      <th></th>\n",
       "      <th>count</th>\n",
       "      <th>mean</th>\n",
       "      <th>std</th>\n",
       "      <th>min</th>\n",
       "      <th>25%</th>\n",
       "      <th>50%</th>\n",
       "      <th>75%</th>\n",
       "      <th>max</th>\n",
       "    </tr>\n",
       "  </thead>\n",
       "  <tbody>\n",
       "    <tr>\n",
       "      <th>ATP</th>\n",
       "      <td>49663.0</td>\n",
       "      <td>33.192679</td>\n",
       "      <td>18.092413</td>\n",
       "      <td>1.000</td>\n",
       "      <td>19.0000</td>\n",
       "      <td>33.000</td>\n",
       "      <td>49.0000</td>\n",
       "      <td>69.00</td>\n",
       "    </tr>\n",
       "    <tr>\n",
       "      <th>Best of</th>\n",
       "      <td>49663.0</td>\n",
       "      <td>3.371705</td>\n",
       "      <td>0.777983</td>\n",
       "      <td>3.000</td>\n",
       "      <td>3.0000</td>\n",
       "      <td>3.000</td>\n",
       "      <td>3.0000</td>\n",
       "      <td>5.00</td>\n",
       "    </tr>\n",
       "    <tr>\n",
       "      <th>WRank</th>\n",
       "      <td>49647.0</td>\n",
       "      <td>59.119544</td>\n",
       "      <td>73.640935</td>\n",
       "      <td>1.000</td>\n",
       "      <td>17.0000</td>\n",
       "      <td>41.000</td>\n",
       "      <td>77.0000</td>\n",
       "      <td>1890.00</td>\n",
       "    </tr>\n",
       "    <tr>\n",
       "      <th>LRank</th>\n",
       "      <td>49559.0</td>\n",
       "      <td>92.466373</td>\n",
       "      <td>117.123204</td>\n",
       "      <td>1.000</td>\n",
       "      <td>35.0000</td>\n",
       "      <td>65.000</td>\n",
       "      <td>105.0000</td>\n",
       "      <td>2159.00</td>\n",
       "    </tr>\n",
       "    <tr>\n",
       "      <th>W1</th>\n",
       "      <td>49415.0</td>\n",
       "      <td>5.793929</td>\n",
       "      <td>1.238380</td>\n",
       "      <td>0.000</td>\n",
       "      <td>6.0000</td>\n",
       "      <td>6.000</td>\n",
       "      <td>6.0000</td>\n",
       "      <td>7.00</td>\n",
       "    </tr>\n",
       "    <tr>\n",
       "      <th>L1</th>\n",
       "      <td>49416.0</td>\n",
       "      <td>4.048203</td>\n",
       "      <td>1.847254</td>\n",
       "      <td>0.000</td>\n",
       "      <td>3.0000</td>\n",
       "      <td>4.000</td>\n",
       "      <td>6.0000</td>\n",
       "      <td>7.00</td>\n",
       "    </tr>\n",
       "    <tr>\n",
       "      <th>W2</th>\n",
       "      <td>48919.0</td>\n",
       "      <td>5.773299</td>\n",
       "      <td>1.255283</td>\n",
       "      <td>0.000</td>\n",
       "      <td>6.0000</td>\n",
       "      <td>6.000</td>\n",
       "      <td>6.0000</td>\n",
       "      <td>7.00</td>\n",
       "    </tr>\n",
       "    <tr>\n",
       "      <th>L2</th>\n",
       "      <td>48920.0</td>\n",
       "      <td>3.864289</td>\n",
       "      <td>1.876281</td>\n",
       "      <td>0.000</td>\n",
       "      <td>2.0000</td>\n",
       "      <td>4.000</td>\n",
       "      <td>6.0000</td>\n",
       "      <td>7.00</td>\n",
       "    </tr>\n",
       "    <tr>\n",
       "      <th>W3</th>\n",
       "      <td>22774.0</td>\n",
       "      <td>6.020550</td>\n",
       "      <td>0.935368</td>\n",
       "      <td>0.000</td>\n",
       "      <td>6.0000</td>\n",
       "      <td>6.000</td>\n",
       "      <td>6.0000</td>\n",
       "      <td>7.00</td>\n",
       "    </tr>\n",
       "    <tr>\n",
       "      <th>L3</th>\n",
       "      <td>22774.0</td>\n",
       "      <td>3.596382</td>\n",
       "      <td>1.766727</td>\n",
       "      <td>0.000</td>\n",
       "      <td>2.0000</td>\n",
       "      <td>4.000</td>\n",
       "      <td>5.0000</td>\n",
       "      <td>7.00</td>\n",
       "    </tr>\n",
       "    <tr>\n",
       "      <th>W4</th>\n",
       "      <td>4466.0</td>\n",
       "      <td>5.773847</td>\n",
       "      <td>1.274576</td>\n",
       "      <td>0.000</td>\n",
       "      <td>6.0000</td>\n",
       "      <td>6.000</td>\n",
       "      <td>6.0000</td>\n",
       "      <td>7.00</td>\n",
       "    </tr>\n",
       "    <tr>\n",
       "      <th>L4</th>\n",
       "      <td>4466.0</td>\n",
       "      <td>3.866547</td>\n",
       "      <td>1.892075</td>\n",
       "      <td>0.000</td>\n",
       "      <td>2.0000</td>\n",
       "      <td>4.000</td>\n",
       "      <td>6.0000</td>\n",
       "      <td>7.00</td>\n",
       "    </tr>\n",
       "    <tr>\n",
       "      <th>W5</th>\n",
       "      <td>1700.0</td>\n",
       "      <td>6.625882</td>\n",
       "      <td>2.266014</td>\n",
       "      <td>0.000</td>\n",
       "      <td>6.0000</td>\n",
       "      <td>6.000</td>\n",
       "      <td>7.0000</td>\n",
       "      <td>70.00</td>\n",
       "    </tr>\n",
       "    <tr>\n",
       "      <th>L5</th>\n",
       "      <td>1700.0</td>\n",
       "      <td>3.748824</td>\n",
       "      <td>2.794065</td>\n",
       "      <td>0.000</td>\n",
       "      <td>2.0000</td>\n",
       "      <td>3.000</td>\n",
       "      <td>5.0000</td>\n",
       "      <td>68.00</td>\n",
       "    </tr>\n",
       "    <tr>\n",
       "      <th>Wsets</th>\n",
       "      <td>49453.0</td>\n",
       "      <td>2.140699</td>\n",
       "      <td>0.461382</td>\n",
       "      <td>0.000</td>\n",
       "      <td>2.0000</td>\n",
       "      <td>2.000</td>\n",
       "      <td>2.0000</td>\n",
       "      <td>3.00</td>\n",
       "    </tr>\n",
       "    <tr>\n",
       "      <th>Lsets</th>\n",
       "      <td>49452.0</td>\n",
       "      <td>0.406010</td>\n",
       "      <td>0.557399</td>\n",
       "      <td>0.000</td>\n",
       "      <td>0.0000</td>\n",
       "      <td>0.000</td>\n",
       "      <td>1.0000</td>\n",
       "      <td>2.00</td>\n",
       "    </tr>\n",
       "    <tr>\n",
       "      <th>CBW</th>\n",
       "      <td>17506.0</td>\n",
       "      <td>1.812080</td>\n",
       "      <td>0.868254</td>\n",
       "      <td>1.000</td>\n",
       "      <td>1.2800</td>\n",
       "      <td>1.550</td>\n",
       "      <td>2.0500</td>\n",
       "      <td>14.00</td>\n",
       "    </tr>\n",
       "    <tr>\n",
       "      <th>CBL</th>\n",
       "      <td>17506.0</td>\n",
       "      <td>3.000658</td>\n",
       "      <td>2.032791</td>\n",
       "      <td>1.020</td>\n",
       "      <td>1.7200</td>\n",
       "      <td>2.375</td>\n",
       "      <td>3.4000</td>\n",
       "      <td>25.00</td>\n",
       "    </tr>\n",
       "    <tr>\n",
       "      <th>GBW</th>\n",
       "      <td>5055.0</td>\n",
       "      <td>1.738742</td>\n",
       "      <td>0.614454</td>\n",
       "      <td>1.010</td>\n",
       "      <td>1.3300</td>\n",
       "      <td>1.550</td>\n",
       "      <td>1.9800</td>\n",
       "      <td>7.50</td>\n",
       "    </tr>\n",
       "    <tr>\n",
       "      <th>GBL</th>\n",
       "      <td>5055.0</td>\n",
       "      <td>2.401363</td>\n",
       "      <td>1.057305</td>\n",
       "      <td>1.030</td>\n",
       "      <td>1.6550</td>\n",
       "      <td>2.100</td>\n",
       "      <td>2.8000</td>\n",
       "      <td>11.00</td>\n",
       "    </tr>\n",
       "    <tr>\n",
       "      <th>IWW</th>\n",
       "      <td>13358.0</td>\n",
       "      <td>1.671585</td>\n",
       "      <td>0.585400</td>\n",
       "      <td>1.010</td>\n",
       "      <td>1.3000</td>\n",
       "      <td>1.500</td>\n",
       "      <td>1.8500</td>\n",
       "      <td>6.00</td>\n",
       "    </tr>\n",
       "    <tr>\n",
       "      <th>IWL</th>\n",
       "      <td>13358.0</td>\n",
       "      <td>2.387132</td>\n",
       "      <td>1.048818</td>\n",
       "      <td>1.030</td>\n",
       "      <td>1.6500</td>\n",
       "      <td>2.100</td>\n",
       "      <td>2.9000</td>\n",
       "      <td>10.00</td>\n",
       "    </tr>\n",
       "    <tr>\n",
       "      <th>SBW</th>\n",
       "      <td>5424.0</td>\n",
       "      <td>1.793035</td>\n",
       "      <td>0.751026</td>\n",
       "      <td>0.000</td>\n",
       "      <td>1.3330</td>\n",
       "      <td>1.571</td>\n",
       "      <td>2.1000</td>\n",
       "      <td>9.00</td>\n",
       "    </tr>\n",
       "    <tr>\n",
       "      <th>SBL</th>\n",
       "      <td>5424.0</td>\n",
       "      <td>2.672064</td>\n",
       "      <td>1.424672</td>\n",
       "      <td>0.000</td>\n",
       "      <td>1.6700</td>\n",
       "      <td>2.250</td>\n",
       "      <td>3.0000</td>\n",
       "      <td>13.00</td>\n",
       "    </tr>\n",
       "    <tr>\n",
       "      <th>B365W</th>\n",
       "      <td>41021.0</td>\n",
       "      <td>1.822448</td>\n",
       "      <td>1.109619</td>\n",
       "      <td>1.000</td>\n",
       "      <td>1.2200</td>\n",
       "      <td>1.500</td>\n",
       "      <td>2.0000</td>\n",
       "      <td>29.00</td>\n",
       "    </tr>\n",
       "    <tr>\n",
       "      <th>B365L</th>\n",
       "      <td>41044.0</td>\n",
       "      <td>3.574495</td>\n",
       "      <td>3.555480</td>\n",
       "      <td>1.002</td>\n",
       "      <td>1.7200</td>\n",
       "      <td>2.500</td>\n",
       "      <td>4.0000</td>\n",
       "      <td>101.00</td>\n",
       "    </tr>\n",
       "    <tr>\n",
       "      <th>B&amp;WW</th>\n",
       "      <td>1097.0</td>\n",
       "      <td>1.728633</td>\n",
       "      <td>0.730434</td>\n",
       "      <td>1.010</td>\n",
       "      <td>1.2500</td>\n",
       "      <td>1.500</td>\n",
       "      <td>1.9500</td>\n",
       "      <td>7.50</td>\n",
       "    </tr>\n",
       "    <tr>\n",
       "      <th>B&amp;WL</th>\n",
       "      <td>1097.0</td>\n",
       "      <td>2.547347</td>\n",
       "      <td>1.330386</td>\n",
       "      <td>1.020</td>\n",
       "      <td>1.6000</td>\n",
       "      <td>2.150</td>\n",
       "      <td>3.1000</td>\n",
       "      <td>9.00</td>\n",
       "    </tr>\n",
       "    <tr>\n",
       "      <th>EXW</th>\n",
       "      <td>36794.0</td>\n",
       "      <td>1.800726</td>\n",
       "      <td>0.963363</td>\n",
       "      <td>0.000</td>\n",
       "      <td>1.2500</td>\n",
       "      <td>1.500</td>\n",
       "      <td>2.0500</td>\n",
       "      <td>20.00</td>\n",
       "    </tr>\n",
       "    <tr>\n",
       "      <th>EXL</th>\n",
       "      <td>36800.0</td>\n",
       "      <td>3.283226</td>\n",
       "      <td>2.469359</td>\n",
       "      <td>1.000</td>\n",
       "      <td>1.7500</td>\n",
       "      <td>2.500</td>\n",
       "      <td>3.7500</td>\n",
       "      <td>40.00</td>\n",
       "    </tr>\n",
       "    <tr>\n",
       "      <th>PSW</th>\n",
       "      <td>34724.0</td>\n",
       "      <td>1.926817</td>\n",
       "      <td>1.352918</td>\n",
       "      <td>1.000</td>\n",
       "      <td>1.2700</td>\n",
       "      <td>1.543</td>\n",
       "      <td>2.1300</td>\n",
       "      <td>46.00</td>\n",
       "    </tr>\n",
       "    <tr>\n",
       "      <th>PSL</th>\n",
       "      <td>34724.0</td>\n",
       "      <td>4.241211</td>\n",
       "      <td>5.707410</td>\n",
       "      <td>1.010</td>\n",
       "      <td>1.8000</td>\n",
       "      <td>2.670</td>\n",
       "      <td>4.3000</td>\n",
       "      <td>121.00</td>\n",
       "    </tr>\n",
       "    <tr>\n",
       "      <th>WPts</th>\n",
       "      <td>33459.0</td>\n",
       "      <td>1839.647897</td>\n",
       "      <td>2327.666384</td>\n",
       "      <td>1.000</td>\n",
       "      <td>635.0000</td>\n",
       "      <td>1004.000</td>\n",
       "      <td>1890.0000</td>\n",
       "      <td>16950.00</td>\n",
       "    </tr>\n",
       "    <tr>\n",
       "      <th>LPts</th>\n",
       "      <td>33401.0</td>\n",
       "      <td>1041.311817</td>\n",
       "      <td>1224.657790</td>\n",
       "      <td>1.000</td>\n",
       "      <td>493.0000</td>\n",
       "      <td>730.000</td>\n",
       "      <td>1130.0000</td>\n",
       "      <td>16950.00</td>\n",
       "    </tr>\n",
       "    <tr>\n",
       "      <th>UBW</th>\n",
       "      <td>10671.0</td>\n",
       "      <td>1.815867</td>\n",
       "      <td>0.996238</td>\n",
       "      <td>1.010</td>\n",
       "      <td>1.2400</td>\n",
       "      <td>1.500</td>\n",
       "      <td>2.0300</td>\n",
       "      <td>18.00</td>\n",
       "    </tr>\n",
       "    <tr>\n",
       "      <th>UBL</th>\n",
       "      <td>10671.0</td>\n",
       "      <td>3.542479</td>\n",
       "      <td>3.646316</td>\n",
       "      <td>1.020</td>\n",
       "      <td>1.7500</td>\n",
       "      <td>2.500</td>\n",
       "      <td>3.8500</td>\n",
       "      <td>60.00</td>\n",
       "    </tr>\n",
       "    <tr>\n",
       "      <th>LBW</th>\n",
       "      <td>25971.0</td>\n",
       "      <td>1.806538</td>\n",
       "      <td>1.043655</td>\n",
       "      <td>1.000</td>\n",
       "      <td>1.2220</td>\n",
       "      <td>1.500</td>\n",
       "      <td>2.0000</td>\n",
       "      <td>26.00</td>\n",
       "    </tr>\n",
       "    <tr>\n",
       "      <th>LBL</th>\n",
       "      <td>25982.0</td>\n",
       "      <td>3.485135</td>\n",
       "      <td>3.114618</td>\n",
       "      <td>1.000</td>\n",
       "      <td>1.7300</td>\n",
       "      <td>2.500</td>\n",
       "      <td>4.0000</td>\n",
       "      <td>51.00</td>\n",
       "    </tr>\n",
       "    <tr>\n",
       "      <th>SJW</th>\n",
       "      <td>15572.0</td>\n",
       "      <td>1.796538</td>\n",
       "      <td>1.004273</td>\n",
       "      <td>1.000</td>\n",
       "      <td>1.2200</td>\n",
       "      <td>1.500</td>\n",
       "      <td>2.0000</td>\n",
       "      <td>19.00</td>\n",
       "    </tr>\n",
       "    <tr>\n",
       "      <th>SJL</th>\n",
       "      <td>15579.0</td>\n",
       "      <td>3.557943</td>\n",
       "      <td>3.272510</td>\n",
       "      <td>1.010</td>\n",
       "      <td>1.7300</td>\n",
       "      <td>2.630</td>\n",
       "      <td>4.0000</td>\n",
       "      <td>81.00</td>\n",
       "    </tr>\n",
       "    <tr>\n",
       "      <th>MaxW</th>\n",
       "      <td>20111.0</td>\n",
       "      <td>1.999673</td>\n",
       "      <td>1.681612</td>\n",
       "      <td>1.010</td>\n",
       "      <td>1.2800</td>\n",
       "      <td>1.570</td>\n",
       "      <td>2.2000</td>\n",
       "      <td>76.00</td>\n",
       "    </tr>\n",
       "    <tr>\n",
       "      <th>MaxL</th>\n",
       "      <td>20111.0</td>\n",
       "      <td>8.934665</td>\n",
       "      <td>422.444126</td>\n",
       "      <td>1.010</td>\n",
       "      <td>1.8500</td>\n",
       "      <td>2.800</td>\n",
       "      <td>4.6500</td>\n",
       "      <td>42586.00</td>\n",
       "    </tr>\n",
       "    <tr>\n",
       "      <th>AvgW</th>\n",
       "      <td>20111.0</td>\n",
       "      <td>1.831075</td>\n",
       "      <td>1.127731</td>\n",
       "      <td>1.010</td>\n",
       "      <td>1.2300</td>\n",
       "      <td>1.490</td>\n",
       "      <td>2.0500</td>\n",
       "      <td>23.45</td>\n",
       "    </tr>\n",
       "    <tr>\n",
       "      <th>AvgL</th>\n",
       "      <td>20111.0</td>\n",
       "      <td>3.648147</td>\n",
       "      <td>3.346275</td>\n",
       "      <td>1.010</td>\n",
       "      <td>1.7400</td>\n",
       "      <td>2.580</td>\n",
       "      <td>4.0600</td>\n",
       "      <td>36.44</td>\n",
       "    </tr>\n",
       "    <tr>\n",
       "      <th>Winner win ratio</th>\n",
       "      <td>49249.0</td>\n",
       "      <td>0.531722</td>\n",
       "      <td>0.143883</td>\n",
       "      <td>0.000</td>\n",
       "      <td>0.4455</td>\n",
       "      <td>0.531</td>\n",
       "      <td>0.6148</td>\n",
       "      <td>1.00</td>\n",
       "    </tr>\n",
       "  </tbody>\n",
       "</table>\n",
       "</div>"
      ],
      "text/plain": [
       "                    count         mean          std    min       25%  \\\n",
       "ATP               49663.0    33.192679    18.092413  1.000   19.0000   \n",
       "Best of           49663.0     3.371705     0.777983  3.000    3.0000   \n",
       "WRank             49647.0    59.119544    73.640935  1.000   17.0000   \n",
       "LRank             49559.0    92.466373   117.123204  1.000   35.0000   \n",
       "W1                49415.0     5.793929     1.238380  0.000    6.0000   \n",
       "L1                49416.0     4.048203     1.847254  0.000    3.0000   \n",
       "W2                48919.0     5.773299     1.255283  0.000    6.0000   \n",
       "L2                48920.0     3.864289     1.876281  0.000    2.0000   \n",
       "W3                22774.0     6.020550     0.935368  0.000    6.0000   \n",
       "L3                22774.0     3.596382     1.766727  0.000    2.0000   \n",
       "W4                 4466.0     5.773847     1.274576  0.000    6.0000   \n",
       "L4                 4466.0     3.866547     1.892075  0.000    2.0000   \n",
       "W5                 1700.0     6.625882     2.266014  0.000    6.0000   \n",
       "L5                 1700.0     3.748824     2.794065  0.000    2.0000   \n",
       "Wsets             49453.0     2.140699     0.461382  0.000    2.0000   \n",
       "Lsets             49452.0     0.406010     0.557399  0.000    0.0000   \n",
       "CBW               17506.0     1.812080     0.868254  1.000    1.2800   \n",
       "CBL               17506.0     3.000658     2.032791  1.020    1.7200   \n",
       "GBW                5055.0     1.738742     0.614454  1.010    1.3300   \n",
       "GBL                5055.0     2.401363     1.057305  1.030    1.6550   \n",
       "IWW               13358.0     1.671585     0.585400  1.010    1.3000   \n",
       "IWL               13358.0     2.387132     1.048818  1.030    1.6500   \n",
       "SBW                5424.0     1.793035     0.751026  0.000    1.3330   \n",
       "SBL                5424.0     2.672064     1.424672  0.000    1.6700   \n",
       "B365W             41021.0     1.822448     1.109619  1.000    1.2200   \n",
       "B365L             41044.0     3.574495     3.555480  1.002    1.7200   \n",
       "B&WW               1097.0     1.728633     0.730434  1.010    1.2500   \n",
       "B&WL               1097.0     2.547347     1.330386  1.020    1.6000   \n",
       "EXW               36794.0     1.800726     0.963363  0.000    1.2500   \n",
       "EXL               36800.0     3.283226     2.469359  1.000    1.7500   \n",
       "PSW               34724.0     1.926817     1.352918  1.000    1.2700   \n",
       "PSL               34724.0     4.241211     5.707410  1.010    1.8000   \n",
       "WPts              33459.0  1839.647897  2327.666384  1.000  635.0000   \n",
       "LPts              33401.0  1041.311817  1224.657790  1.000  493.0000   \n",
       "UBW               10671.0     1.815867     0.996238  1.010    1.2400   \n",
       "UBL               10671.0     3.542479     3.646316  1.020    1.7500   \n",
       "LBW               25971.0     1.806538     1.043655  1.000    1.2220   \n",
       "LBL               25982.0     3.485135     3.114618  1.000    1.7300   \n",
       "SJW               15572.0     1.796538     1.004273  1.000    1.2200   \n",
       "SJL               15579.0     3.557943     3.272510  1.010    1.7300   \n",
       "MaxW              20111.0     1.999673     1.681612  1.010    1.2800   \n",
       "MaxL              20111.0     8.934665   422.444126  1.010    1.8500   \n",
       "AvgW              20111.0     1.831075     1.127731  1.010    1.2300   \n",
       "AvgL              20111.0     3.648147     3.346275  1.010    1.7400   \n",
       "Winner win ratio  49249.0     0.531722     0.143883  0.000    0.4455   \n",
       "\n",
       "                       50%        75%       max  \n",
       "ATP                 33.000    49.0000     69.00  \n",
       "Best of              3.000     3.0000      5.00  \n",
       "WRank               41.000    77.0000   1890.00  \n",
       "LRank               65.000   105.0000   2159.00  \n",
       "W1                   6.000     6.0000      7.00  \n",
       "L1                   4.000     6.0000      7.00  \n",
       "W2                   6.000     6.0000      7.00  \n",
       "L2                   4.000     6.0000      7.00  \n",
       "W3                   6.000     6.0000      7.00  \n",
       "L3                   4.000     5.0000      7.00  \n",
       "W4                   6.000     6.0000      7.00  \n",
       "L4                   4.000     6.0000      7.00  \n",
       "W5                   6.000     7.0000     70.00  \n",
       "L5                   3.000     5.0000     68.00  \n",
       "Wsets                2.000     2.0000      3.00  \n",
       "Lsets                0.000     1.0000      2.00  \n",
       "CBW                  1.550     2.0500     14.00  \n",
       "CBL                  2.375     3.4000     25.00  \n",
       "GBW                  1.550     1.9800      7.50  \n",
       "GBL                  2.100     2.8000     11.00  \n",
       "IWW                  1.500     1.8500      6.00  \n",
       "IWL                  2.100     2.9000     10.00  \n",
       "SBW                  1.571     2.1000      9.00  \n",
       "SBL                  2.250     3.0000     13.00  \n",
       "B365W                1.500     2.0000     29.00  \n",
       "B365L                2.500     4.0000    101.00  \n",
       "B&WW                 1.500     1.9500      7.50  \n",
       "B&WL                 2.150     3.1000      9.00  \n",
       "EXW                  1.500     2.0500     20.00  \n",
       "EXL                  2.500     3.7500     40.00  \n",
       "PSW                  1.543     2.1300     46.00  \n",
       "PSL                  2.670     4.3000    121.00  \n",
       "WPts              1004.000  1890.0000  16950.00  \n",
       "LPts               730.000  1130.0000  16950.00  \n",
       "UBW                  1.500     2.0300     18.00  \n",
       "UBL                  2.500     3.8500     60.00  \n",
       "LBW                  1.500     2.0000     26.00  \n",
       "LBL                  2.500     4.0000     51.00  \n",
       "SJW                  1.500     2.0000     19.00  \n",
       "SJL                  2.630     4.0000     81.00  \n",
       "MaxW                 1.570     2.2000     76.00  \n",
       "MaxL                 2.800     4.6500  42586.00  \n",
       "AvgW                 1.490     2.0500     23.45  \n",
       "AvgL                 2.580     4.0600     36.44  \n",
       "Winner win ratio     0.531     0.6148      1.00  "
      ]
     },
     "execution_count": 13,
     "metadata": {},
     "output_type": "execute_result"
    }
   ],
   "source": [
    "# Checking outliers\n",
    "df_atp.describe().transpose()"
   ]
  },
  {
   "cell_type": "code",
   "execution_count": 14,
   "metadata": {
    "ExecuteTime": {
     "end_time": "2021-02-03T22:54:03.655391Z",
     "start_time": "2021-02-03T22:53:59.753475Z"
    },
    "scrolled": true
   },
   "outputs": [
    {
     "data": {
      "image/png": "[encoded data removed]",
      "text/plain": [
       "<Figure size 1152x1152 with 49 Axes>"
      ]
     },
     "metadata": {
      "needs_background": "light"
     },
     "output_type": "display_data"
    }
   ],
   "source": [
    "# More details on the values distribution for each feature\n",
    "hist = df_atp.hist(bins=10, figsize=(16, 16))"
   ]
  },
  {
   "cell_type": "markdown",
   "metadata": {},
   "source": [
    "Looking at each the description table and the feature distribution with their associated range values histograms above, we can spot the 4 extreme values are: \n",
    "- **70** and **68** games won during 5th set\n",
    "- **42586** and **42136** for max loser odds"
   ]
  },
  {
   "cell_type": "markdown",
   "metadata": {},
   "source": [
    "----------------"
   ]
  },
  {
   "cell_type": "code",
   "execution_count": 15,
   "metadata": {
    "ExecuteTime": {
     "end_time": "2021-02-03T22:54:03.670183Z",
     "start_time": "2021-02-03T22:54:03.657358Z"
    }
   },
   "outputs": [
    {
     "data": {
      "text/html": [
       "<div>\n",
       "<style scoped>\n",
       "    .dataframe tbody tr th:only-of-type {\n",
       "        vertical-align: middle;\n",
       "    }\n",
       "\n",
       "    .dataframe tbody tr th {\n",
       "        vertical-align: top;\n",
       "    }\n",
       "\n",
       "    .dataframe thead th {\n",
       "        text-align: right;\n",
       "    }\n",
       "</style>\n",
       "<table border=\"1\" class=\"dataframe\">\n",
       "  <thead>\n",
       "    <tr style=\"text-align: right;\">\n",
       "      <th></th>\n",
       "      <th>Winner</th>\n",
       "      <th>Loser</th>\n",
       "      <th>W5</th>\n",
       "      <th>L5</th>\n",
       "    </tr>\n",
       "  </thead>\n",
       "  <tbody>\n",
       "    <tr>\n",
       "      <th>30132</th>\n",
       "      <td>Isner J.</td>\n",
       "      <td>Mahut N.</td>\n",
       "      <td>70.0</td>\n",
       "      <td>68.0</td>\n",
       "    </tr>\n",
       "  </tbody>\n",
       "</table>\n",
       "</div>"
      ],
      "text/plain": [
       "         Winner     Loser    W5    L5\n",
       "30132  Isner J.  Mahut N.  70.0  68.0"
      ]
     },
     "execution_count": 15,
     "metadata": {},
     "output_type": "execute_result"
    }
   ],
   "source": [
    "df_atp.loc[df_atp['W5']==70][['Winner', 'Loser', 'W5', 'L5']]"
   ]
  },
  {
   "cell_type": "markdown",
   "metadata": {},
   "source": [
    "The extreme values of **70** vs **68** games during 5 sets are real values and not buggy ones. Actually, this was the longest tennis match ever!\n",
    "\n",
    "This match opposed Mahut N. vs Isner J.: https://fr.wikipedia.org/wiki/Match_Isner_-_Mahut_lors_du_tournoi_de_Wimbledon_2010"
   ]
  },
  {
   "cell_type": "markdown",
   "metadata": {},
   "source": [
    "-------------"
   ]
  },
  {
   "cell_type": "markdown",
   "metadata": {},
   "source": [
    "When exploring the dataset regarding the **MaxL** extreme values, we made 2 observations:\n",
    "- 1) Those values are incorrect regarding the available odds of the associated match\n",
    "- 2) **MaxW**, **MaxL**, **AvgW**, **AvgL** feature can be NaN even if there are available odds associated to the match "
   ]
  },
  {
   "cell_type": "code",
   "execution_count": 16,
   "metadata": {
    "ExecuteTime": {
     "end_time": "2021-02-03T22:54:03.684873Z",
     "start_time": "2021-02-03T22:54:03.672366Z"
    }
   },
   "outputs": [
    {
     "data": {
      "text/html": [
       "<div>\n",
       "<style scoped>\n",
       "    .dataframe tbody tr th:only-of-type {\n",
       "        vertical-align: middle;\n",
       "    }\n",
       "\n",
       "    .dataframe tbody tr th {\n",
       "        vertical-align: top;\n",
       "    }\n",
       "\n",
       "    .dataframe thead th {\n",
       "        text-align: right;\n",
       "    }\n",
       "</style>\n",
       "<table border=\"1\" class=\"dataframe\">\n",
       "  <thead>\n",
       "    <tr style=\"text-align: right;\">\n",
       "      <th></th>\n",
       "      <th>Winner</th>\n",
       "      <th>Loser</th>\n",
       "      <th>B365L</th>\n",
       "      <th>EXL</th>\n",
       "      <th>PSL</th>\n",
       "      <th>LBL</th>\n",
       "      <th>MaxL</th>\n",
       "    </tr>\n",
       "  </thead>\n",
       "  <tbody>\n",
       "    <tr>\n",
       "      <th>46527</th>\n",
       "      <td>Thiem D.</td>\n",
       "      <td>Millman J.</td>\n",
       "      <td>4.33</td>\n",
       "      <td>3.5</td>\n",
       "      <td>4.77</td>\n",
       "      <td>4.33</td>\n",
       "      <td>42586.0</td>\n",
       "    </tr>\n",
       "  </tbody>\n",
       "</table>\n",
       "</div>"
      ],
      "text/plain": [
       "         Winner       Loser  B365L  EXL   PSL   LBL     MaxL\n",
       "46527  Thiem D.  Millman J.   4.33  3.5  4.77  4.33  42586.0"
      ]
     },
     "execution_count": 16,
     "metadata": {},
     "output_type": "execute_result"
    }
   ],
   "source": [
    "df_atp.loc[df_atp['MaxL']==42586][['Winner', 'Loser', 'B365L', 'EXL', 'PSL', 'LBL', 'MaxL']]"
   ]
  },
  {
   "cell_type": "code",
   "execution_count": 17,
   "metadata": {
    "ExecuteTime": {
     "end_time": "2021-02-03T22:54:03.698958Z",
     "start_time": "2021-02-03T22:54:03.687081Z"
    }
   },
   "outputs": [
    {
     "data": {
      "text/html": [
       "<div>\n",
       "<style scoped>\n",
       "    .dataframe tbody tr th:only-of-type {\n",
       "        vertical-align: middle;\n",
       "    }\n",
       "\n",
       "    .dataframe tbody tr th {\n",
       "        vertical-align: top;\n",
       "    }\n",
       "\n",
       "    .dataframe thead th {\n",
       "        text-align: right;\n",
       "    }\n",
       "</style>\n",
       "<table border=\"1\" class=\"dataframe\">\n",
       "  <thead>\n",
       "    <tr style=\"text-align: right;\">\n",
       "      <th></th>\n",
       "      <th>Winner</th>\n",
       "      <th>Loser</th>\n",
       "      <th>B365L</th>\n",
       "      <th>EXL</th>\n",
       "      <th>PSL</th>\n",
       "      <th>LBL</th>\n",
       "      <th>MaxL</th>\n",
       "    </tr>\n",
       "  </thead>\n",
       "  <tbody>\n",
       "    <tr>\n",
       "      <th>43332</th>\n",
       "      <td>Nadal R.</td>\n",
       "      <td>Bellucci T.</td>\n",
       "      <td>11.0</td>\n",
       "      <td>8.5</td>\n",
       "      <td>12.5</td>\n",
       "      <td>9.0</td>\n",
       "      <td>42136.0</td>\n",
       "    </tr>\n",
       "  </tbody>\n",
       "</table>\n",
       "</div>"
      ],
      "text/plain": [
       "         Winner        Loser  B365L  EXL   PSL  LBL     MaxL\n",
       "43332  Nadal R.  Bellucci T.   11.0  8.5  12.5  9.0  42136.0"
      ]
     },
     "execution_count": 17,
     "metadata": {},
     "output_type": "execute_result"
    }
   ],
   "source": [
    "df_atp.loc[df_atp['MaxL']==42136][['Winner', 'Loser', 'B365L', 'EXL', 'PSL', 'LBL', 'MaxL']]"
   ]
  },
  {
   "cell_type": "code",
   "execution_count": 18,
   "metadata": {
    "ExecuteTime": {
     "end_time": "2021-02-03T22:54:03.724953Z",
     "start_time": "2021-02-03T22:54:03.701157Z"
    }
   },
   "outputs": [
    {
     "data": {
      "text/plain": [
       "B365W    1.364\n",
       "B365L    2.875\n",
       "MaxW       NaN\n",
       "MaxL       NaN\n",
       "AvgW       NaN\n",
       "AvgL       NaN\n",
       "Name: 10000, dtype: object"
      ]
     },
     "execution_count": 18,
     "metadata": {},
     "output_type": "execute_result"
    }
   ],
   "source": [
    "df_atp.loc[10_000][['B365W', 'B365L', 'MaxW', 'MaxL', 'AvgW', 'AvgL']]"
   ]
  },
  {
   "cell_type": "markdown",
   "metadata": {},
   "source": [
    "Regarding the 2 first examples above, **MaxL** should be respectively 4.77 and 12.5.\n",
    "\n",
    "The last example shows that there are missing values. We propose to fix those missing values simply by computing them."
   ]
  },
  {
   "cell_type": "code",
   "execution_count": 19,
   "metadata": {
    "ExecuteTime": {
     "end_time": "2021-02-03T22:54:20.758139Z",
     "start_time": "2021-02-03T22:54:03.732435Z"
    },
    "scrolled": true
   },
   "outputs": [
    {
     "name": "stderr",
     "output_type": "stream",
     "text": [
      "/Users/matyasamrouche/Documents/Entretiens/Javaness/javaness_env/lib/python3.6/site-packages/ipykernel_launcher.py:5: RuntimeWarning: All-NaN axis encountered\n",
      "  \"\"\"\n",
      "/Users/matyasamrouche/Documents/Entretiens/Javaness/javaness_env/lib/python3.6/site-packages/ipykernel_launcher.py:9: RuntimeWarning: Mean of empty slice\n",
      "  if __name__ == '__main__':\n",
      "/Users/matyasamrouche/Documents/Entretiens/Javaness/javaness_env/lib/python3.6/site-packages/ipykernel_launcher.py:13: RuntimeWarning: All-NaN axis encountered\n",
      "  del sys.path[0]\n",
      "/Users/matyasamrouche/Documents/Entretiens/Javaness/javaness_env/lib/python3.6/site-packages/ipykernel_launcher.py:17: RuntimeWarning: Mean of empty slice\n"
     ]
    }
   ],
   "source": [
    "winner_odds_columns = ['CBW', 'GBW', 'IWW', 'SBW', 'B365W', 'B&WW', 'EXW', 'PSW', 'UBW', 'LBW', 'SJW']\n",
    "loser_odds_columns = ['CBL', 'GBL', 'IWL', 'SBL', 'B365L', 'B&WL', 'EXL', 'PSL', 'UBL', 'LBL', 'SJL']\n",
    "\n",
    "def max_odd_winner(x):\n",
    "    max_odd = np.nanmax([x[odd] for odd in winner_odds_columns])\n",
    "    return max_odd\n",
    "\n",
    "def avg_odd_winner(x):\n",
    "    avg_odd = np.nanmean([x[odd] for odd in winner_odds_columns])\n",
    "    return avg_odd\n",
    "\n",
    "def max_odd_loser(x):\n",
    "    max_odd = np.nanmax([x[odd] for odd in loser_odds_columns])\n",
    "    return max_odd\n",
    "\n",
    "def avg_odd_loser(x):\n",
    "    avg_odd = np.nanmean([x[odd] for odd in loser_odds_columns])\n",
    "    return avg_odd\n",
    "\n",
    "\n",
    "df_atp['MaxW'] = df_atp.apply(lambda x: max_odd_winner(x), axis=1)\n",
    "df_atp['AvgW'] = df_atp.apply(lambda x: avg_odd_winner(x), axis=1)\n",
    "\n",
    "df_atp['MaxL'] = df_atp.apply(lambda x: max_odd_loser(x), axis=1)\n",
    "df_atp['AvgL'] = df_atp.apply(lambda x: avg_odd_loser(x), axis=1)"
   ]
  },
  {
   "cell_type": "code",
   "execution_count": 20,
   "metadata": {
    "ExecuteTime": {
     "end_time": "2021-02-03T22:54:20.769253Z",
     "start_time": "2021-02-03T22:54:20.760175Z"
    },
    "scrolled": true
   },
   "outputs": [
    {
     "data": {
      "text/plain": [
       "B365W      1.364\n",
       "B365L      2.875\n",
       "MaxW       1.364\n",
       "MaxL        3.35\n",
       "AvgW      1.2875\n",
       "AvgL     3.19375\n",
       "Name: 10000, dtype: object"
      ]
     },
     "execution_count": 20,
     "metadata": {},
     "output_type": "execute_result"
    }
   ],
   "source": [
    "df_atp.loc[10_000][['B365W', 'B365L', 'MaxW', 'MaxL', 'AvgW', 'AvgL']]"
   ]
  },
  {
   "cell_type": "code",
   "execution_count": 21,
   "metadata": {
    "ExecuteTime": {
     "end_time": "2021-02-03T22:54:21.045567Z",
     "start_time": "2021-02-03T22:54:20.771227Z"
    },
    "scrolled": true
   },
   "outputs": [
    {
     "data": {
      "text/html": [
       "<div>\n",
       "<style scoped>\n",
       "    .dataframe tbody tr th:only-of-type {\n",
       "        vertical-align: middle;\n",
       "    }\n",
       "\n",
       "    .dataframe tbody tr th {\n",
       "        vertical-align: top;\n",
       "    }\n",
       "\n",
       "    .dataframe thead th {\n",
       "        text-align: right;\n",
       "    }\n",
       "</style>\n",
       "<table border=\"1\" class=\"dataframe\">\n",
       "  <thead>\n",
       "    <tr style=\"text-align: right;\">\n",
       "      <th></th>\n",
       "      <th>count</th>\n",
       "      <th>mean</th>\n",
       "      <th>std</th>\n",
       "      <th>min</th>\n",
       "      <th>25%</th>\n",
       "      <th>50%</th>\n",
       "      <th>75%</th>\n",
       "      <th>max</th>\n",
       "    </tr>\n",
       "  </thead>\n",
       "  <tbody>\n",
       "    <tr>\n",
       "      <th>ATP</th>\n",
       "      <td>49663.0</td>\n",
       "      <td>33.192679</td>\n",
       "      <td>18.092413</td>\n",
       "      <td>1.0000</td>\n",
       "      <td>19.0000</td>\n",
       "      <td>33.00000</td>\n",
       "      <td>49.0000</td>\n",
       "      <td>69.0</td>\n",
       "    </tr>\n",
       "    <tr>\n",
       "      <th>Best of</th>\n",
       "      <td>49663.0</td>\n",
       "      <td>3.371705</td>\n",
       "      <td>0.777983</td>\n",
       "      <td>3.0000</td>\n",
       "      <td>3.0000</td>\n",
       "      <td>3.00000</td>\n",
       "      <td>3.0000</td>\n",
       "      <td>5.0</td>\n",
       "    </tr>\n",
       "    <tr>\n",
       "      <th>WRank</th>\n",
       "      <td>49647.0</td>\n",
       "      <td>59.119544</td>\n",
       "      <td>73.640935</td>\n",
       "      <td>1.0000</td>\n",
       "      <td>17.0000</td>\n",
       "      <td>41.00000</td>\n",
       "      <td>77.0000</td>\n",
       "      <td>1890.0</td>\n",
       "    </tr>\n",
       "    <tr>\n",
       "      <th>LRank</th>\n",
       "      <td>49559.0</td>\n",
       "      <td>92.466373</td>\n",
       "      <td>117.123204</td>\n",
       "      <td>1.0000</td>\n",
       "      <td>35.0000</td>\n",
       "      <td>65.00000</td>\n",
       "      <td>105.0000</td>\n",
       "      <td>2159.0</td>\n",
       "    </tr>\n",
       "    <tr>\n",
       "      <th>W1</th>\n",
       "      <td>49415.0</td>\n",
       "      <td>5.793929</td>\n",
       "      <td>1.238380</td>\n",
       "      <td>0.0000</td>\n",
       "      <td>6.0000</td>\n",
       "      <td>6.00000</td>\n",
       "      <td>6.0000</td>\n",
       "      <td>7.0</td>\n",
       "    </tr>\n",
       "    <tr>\n",
       "      <th>L1</th>\n",
       "      <td>49416.0</td>\n",
       "      <td>4.048203</td>\n",
       "      <td>1.847254</td>\n",
       "      <td>0.0000</td>\n",
       "      <td>3.0000</td>\n",
       "      <td>4.00000</td>\n",
       "      <td>6.0000</td>\n",
       "      <td>7.0</td>\n",
       "    </tr>\n",
       "    <tr>\n",
       "      <th>W2</th>\n",
       "      <td>48919.0</td>\n",
       "      <td>5.773299</td>\n",
       "      <td>1.255283</td>\n",
       "      <td>0.0000</td>\n",
       "      <td>6.0000</td>\n",
       "      <td>6.00000</td>\n",
       "      <td>6.0000</td>\n",
       "      <td>7.0</td>\n",
       "    </tr>\n",
       "    <tr>\n",
       "      <th>L2</th>\n",
       "      <td>48920.0</td>\n",
       "      <td>3.864289</td>\n",
       "      <td>1.876281</td>\n",
       "      <td>0.0000</td>\n",
       "      <td>2.0000</td>\n",
       "      <td>4.00000</td>\n",
       "      <td>6.0000</td>\n",
       "      <td>7.0</td>\n",
       "    </tr>\n",
       "    <tr>\n",
       "      <th>W3</th>\n",
       "      <td>22774.0</td>\n",
       "      <td>6.020550</td>\n",
       "      <td>0.935368</td>\n",
       "      <td>0.0000</td>\n",
       "      <td>6.0000</td>\n",
       "      <td>6.00000</td>\n",
       "      <td>6.0000</td>\n",
       "      <td>7.0</td>\n",
       "    </tr>\n",
       "    <tr>\n",
       "      <th>L3</th>\n",
       "      <td>22774.0</td>\n",
       "      <td>3.596382</td>\n",
       "      <td>1.766727</td>\n",
       "      <td>0.0000</td>\n",
       "      <td>2.0000</td>\n",
       "      <td>4.00000</td>\n",
       "      <td>5.0000</td>\n",
       "      <td>7.0</td>\n",
       "    </tr>\n",
       "    <tr>\n",
       "      <th>W4</th>\n",
       "      <td>4466.0</td>\n",
       "      <td>5.773847</td>\n",
       "      <td>1.274576</td>\n",
       "      <td>0.0000</td>\n",
       "      <td>6.0000</td>\n",
       "      <td>6.00000</td>\n",
       "      <td>6.0000</td>\n",
       "      <td>7.0</td>\n",
       "    </tr>\n",
       "    <tr>\n",
       "      <th>L4</th>\n",
       "      <td>4466.0</td>\n",
       "      <td>3.866547</td>\n",
       "      <td>1.892075</td>\n",
       "      <td>0.0000</td>\n",
       "      <td>2.0000</td>\n",
       "      <td>4.00000</td>\n",
       "      <td>6.0000</td>\n",
       "      <td>7.0</td>\n",
       "    </tr>\n",
       "    <tr>\n",
       "      <th>W5</th>\n",
       "      <td>1700.0</td>\n",
       "      <td>6.625882</td>\n",
       "      <td>2.266014</td>\n",
       "      <td>0.0000</td>\n",
       "      <td>6.0000</td>\n",
       "      <td>6.00000</td>\n",
       "      <td>7.0000</td>\n",
       "      <td>70.0</td>\n",
       "    </tr>\n",
       "    <tr>\n",
       "      <th>L5</th>\n",
       "      <td>1700.0</td>\n",
       "      <td>3.748824</td>\n",
       "      <td>2.794065</td>\n",
       "      <td>0.0000</td>\n",
       "      <td>2.0000</td>\n",
       "      <td>3.00000</td>\n",
       "      <td>5.0000</td>\n",
       "      <td>68.0</td>\n",
       "    </tr>\n",
       "    <tr>\n",
       "      <th>Wsets</th>\n",
       "      <td>49453.0</td>\n",
       "      <td>2.140699</td>\n",
       "      <td>0.461382</td>\n",
       "      <td>0.0000</td>\n",
       "      <td>2.0000</td>\n",
       "      <td>2.00000</td>\n",
       "      <td>2.0000</td>\n",
       "      <td>3.0</td>\n",
       "    </tr>\n",
       "    <tr>\n",
       "      <th>Lsets</th>\n",
       "      <td>49452.0</td>\n",
       "      <td>0.406010</td>\n",
       "      <td>0.557399</td>\n",
       "      <td>0.0000</td>\n",
       "      <td>0.0000</td>\n",
       "      <td>0.00000</td>\n",
       "      <td>1.0000</td>\n",
       "      <td>2.0</td>\n",
       "    </tr>\n",
       "    <tr>\n",
       "      <th>CBW</th>\n",
       "      <td>17506.0</td>\n",
       "      <td>1.812080</td>\n",
       "      <td>0.868254</td>\n",
       "      <td>1.0000</td>\n",
       "      <td>1.2800</td>\n",
       "      <td>1.55000</td>\n",
       "      <td>2.0500</td>\n",
       "      <td>14.0</td>\n",
       "    </tr>\n",
       "    <tr>\n",
       "      <th>CBL</th>\n",
       "      <td>17506.0</td>\n",
       "      <td>3.000658</td>\n",
       "      <td>2.032791</td>\n",
       "      <td>1.0200</td>\n",
       "      <td>1.7200</td>\n",
       "      <td>2.37500</td>\n",
       "      <td>3.4000</td>\n",
       "      <td>25.0</td>\n",
       "    </tr>\n",
       "    <tr>\n",
       "      <th>GBW</th>\n",
       "      <td>5055.0</td>\n",
       "      <td>1.738742</td>\n",
       "      <td>0.614454</td>\n",
       "      <td>1.0100</td>\n",
       "      <td>1.3300</td>\n",
       "      <td>1.55000</td>\n",
       "      <td>1.9800</td>\n",
       "      <td>7.5</td>\n",
       "    </tr>\n",
       "    <tr>\n",
       "      <th>GBL</th>\n",
       "      <td>5055.0</td>\n",
       "      <td>2.401363</td>\n",
       "      <td>1.057305</td>\n",
       "      <td>1.0300</td>\n",
       "      <td>1.6550</td>\n",
       "      <td>2.10000</td>\n",
       "      <td>2.8000</td>\n",
       "      <td>11.0</td>\n",
       "    </tr>\n",
       "    <tr>\n",
       "      <th>IWW</th>\n",
       "      <td>13358.0</td>\n",
       "      <td>1.671585</td>\n",
       "      <td>0.585400</td>\n",
       "      <td>1.0100</td>\n",
       "      <td>1.3000</td>\n",
       "      <td>1.50000</td>\n",
       "      <td>1.8500</td>\n",
       "      <td>6.0</td>\n",
       "    </tr>\n",
       "    <tr>\n",
       "      <th>IWL</th>\n",
       "      <td>13358.0</td>\n",
       "      <td>2.387132</td>\n",
       "      <td>1.048818</td>\n",
       "      <td>1.0300</td>\n",
       "      <td>1.6500</td>\n",
       "      <td>2.10000</td>\n",
       "      <td>2.9000</td>\n",
       "      <td>10.0</td>\n",
       "    </tr>\n",
       "    <tr>\n",
       "      <th>SBW</th>\n",
       "      <td>5424.0</td>\n",
       "      <td>1.793035</td>\n",
       "      <td>0.751026</td>\n",
       "      <td>0.0000</td>\n",
       "      <td>1.3330</td>\n",
       "      <td>1.57100</td>\n",
       "      <td>2.1000</td>\n",
       "      <td>9.0</td>\n",
       "    </tr>\n",
       "    <tr>\n",
       "      <th>SBL</th>\n",
       "      <td>5424.0</td>\n",
       "      <td>2.672064</td>\n",
       "      <td>1.424672</td>\n",
       "      <td>0.0000</td>\n",
       "      <td>1.6700</td>\n",
       "      <td>2.25000</td>\n",
       "      <td>3.0000</td>\n",
       "      <td>13.0</td>\n",
       "    </tr>\n",
       "    <tr>\n",
       "      <th>B365W</th>\n",
       "      <td>41021.0</td>\n",
       "      <td>1.822448</td>\n",
       "      <td>1.109619</td>\n",
       "      <td>1.0000</td>\n",
       "      <td>1.2200</td>\n",
       "      <td>1.50000</td>\n",
       "      <td>2.0000</td>\n",
       "      <td>29.0</td>\n",
       "    </tr>\n",
       "    <tr>\n",
       "      <th>B365L</th>\n",
       "      <td>41044.0</td>\n",
       "      <td>3.574495</td>\n",
       "      <td>3.555480</td>\n",
       "      <td>1.0020</td>\n",
       "      <td>1.7200</td>\n",
       "      <td>2.50000</td>\n",
       "      <td>4.0000</td>\n",
       "      <td>101.0</td>\n",
       "    </tr>\n",
       "    <tr>\n",
       "      <th>B&amp;WW</th>\n",
       "      <td>1097.0</td>\n",
       "      <td>1.728633</td>\n",
       "      <td>0.730434</td>\n",
       "      <td>1.0100</td>\n",
       "      <td>1.2500</td>\n",
       "      <td>1.50000</td>\n",
       "      <td>1.9500</td>\n",
       "      <td>7.5</td>\n",
       "    </tr>\n",
       "    <tr>\n",
       "      <th>B&amp;WL</th>\n",
       "      <td>1097.0</td>\n",
       "      <td>2.547347</td>\n",
       "      <td>1.330386</td>\n",
       "      <td>1.0200</td>\n",
       "      <td>1.6000</td>\n",
       "      <td>2.15000</td>\n",
       "      <td>3.1000</td>\n",
       "      <td>9.0</td>\n",
       "    </tr>\n",
       "    <tr>\n",
       "      <th>EXW</th>\n",
       "      <td>36794.0</td>\n",
       "      <td>1.800726</td>\n",
       "      <td>0.963363</td>\n",
       "      <td>0.0000</td>\n",
       "      <td>1.2500</td>\n",
       "      <td>1.50000</td>\n",
       "      <td>2.0500</td>\n",
       "      <td>20.0</td>\n",
       "    </tr>\n",
       "    <tr>\n",
       "      <th>EXL</th>\n",
       "      <td>36800.0</td>\n",
       "      <td>3.283226</td>\n",
       "      <td>2.469359</td>\n",
       "      <td>1.0000</td>\n",
       "      <td>1.7500</td>\n",
       "      <td>2.50000</td>\n",
       "      <td>3.7500</td>\n",
       "      <td>40.0</td>\n",
       "    </tr>\n",
       "    <tr>\n",
       "      <th>PSW</th>\n",
       "      <td>34724.0</td>\n",
       "      <td>1.926817</td>\n",
       "      <td>1.352918</td>\n",
       "      <td>1.0000</td>\n",
       "      <td>1.2700</td>\n",
       "      <td>1.54300</td>\n",
       "      <td>2.1300</td>\n",
       "      <td>46.0</td>\n",
       "    </tr>\n",
       "    <tr>\n",
       "      <th>PSL</th>\n",
       "      <td>34724.0</td>\n",
       "      <td>4.241211</td>\n",
       "      <td>5.707410</td>\n",
       "      <td>1.0100</td>\n",
       "      <td>1.8000</td>\n",
       "      <td>2.67000</td>\n",
       "      <td>4.3000</td>\n",
       "      <td>121.0</td>\n",
       "    </tr>\n",
       "    <tr>\n",
       "      <th>WPts</th>\n",
       "      <td>33459.0</td>\n",
       "      <td>1839.647897</td>\n",
       "      <td>2327.666384</td>\n",
       "      <td>1.0000</td>\n",
       "      <td>635.0000</td>\n",
       "      <td>1004.00000</td>\n",
       "      <td>1890.0000</td>\n",
       "      <td>16950.0</td>\n",
       "    </tr>\n",
       "    <tr>\n",
       "      <th>LPts</th>\n",
       "      <td>33401.0</td>\n",
       "      <td>1041.311817</td>\n",
       "      <td>1224.657790</td>\n",
       "      <td>1.0000</td>\n",
       "      <td>493.0000</td>\n",
       "      <td>730.00000</td>\n",
       "      <td>1130.0000</td>\n",
       "      <td>16950.0</td>\n",
       "    </tr>\n",
       "    <tr>\n",
       "      <th>UBW</th>\n",
       "      <td>10671.0</td>\n",
       "      <td>1.815867</td>\n",
       "      <td>0.996238</td>\n",
       "      <td>1.0100</td>\n",
       "      <td>1.2400</td>\n",
       "      <td>1.50000</td>\n",
       "      <td>2.0300</td>\n",
       "      <td>18.0</td>\n",
       "    </tr>\n",
       "    <tr>\n",
       "      <th>UBL</th>\n",
       "      <td>10671.0</td>\n",
       "      <td>3.542479</td>\n",
       "      <td>3.646316</td>\n",
       "      <td>1.0200</td>\n",
       "      <td>1.7500</td>\n",
       "      <td>2.50000</td>\n",
       "      <td>3.8500</td>\n",
       "      <td>60.0</td>\n",
       "    </tr>\n",
       "    <tr>\n",
       "      <th>LBW</th>\n",
       "      <td>25971.0</td>\n",
       "      <td>1.806538</td>\n",
       "      <td>1.043655</td>\n",
       "      <td>1.0000</td>\n",
       "      <td>1.2220</td>\n",
       "      <td>1.50000</td>\n",
       "      <td>2.0000</td>\n",
       "      <td>26.0</td>\n",
       "    </tr>\n",
       "    <tr>\n",
       "      <th>LBL</th>\n",
       "      <td>25982.0</td>\n",
       "      <td>3.485135</td>\n",
       "      <td>3.114618</td>\n",
       "      <td>1.0000</td>\n",
       "      <td>1.7300</td>\n",
       "      <td>2.50000</td>\n",
       "      <td>4.0000</td>\n",
       "      <td>51.0</td>\n",
       "    </tr>\n",
       "    <tr>\n",
       "      <th>SJW</th>\n",
       "      <td>15572.0</td>\n",
       "      <td>1.796538</td>\n",
       "      <td>1.004273</td>\n",
       "      <td>1.0000</td>\n",
       "      <td>1.2200</td>\n",
       "      <td>1.50000</td>\n",
       "      <td>2.0000</td>\n",
       "      <td>19.0</td>\n",
       "    </tr>\n",
       "    <tr>\n",
       "      <th>SJL</th>\n",
       "      <td>15579.0</td>\n",
       "      <td>3.557943</td>\n",
       "      <td>3.272510</td>\n",
       "      <td>1.0100</td>\n",
       "      <td>1.7300</td>\n",
       "      <td>2.63000</td>\n",
       "      <td>4.0000</td>\n",
       "      <td>81.0</td>\n",
       "    </tr>\n",
       "    <tr>\n",
       "      <th>MaxW</th>\n",
       "      <td>45756.0</td>\n",
       "      <td>1.927588</td>\n",
       "      <td>1.271223</td>\n",
       "      <td>1.0000</td>\n",
       "      <td>1.2900</td>\n",
       "      <td>1.57000</td>\n",
       "      <td>2.1500</td>\n",
       "      <td>46.0</td>\n",
       "    </tr>\n",
       "    <tr>\n",
       "      <th>MaxL</th>\n",
       "      <td>45756.0</td>\n",
       "      <td>4.014035</td>\n",
       "      <td>5.222226</td>\n",
       "      <td>1.0100</td>\n",
       "      <td>1.8000</td>\n",
       "      <td>2.62500</td>\n",
       "      <td>4.0700</td>\n",
       "      <td>121.0</td>\n",
       "    </tr>\n",
       "    <tr>\n",
       "      <th>AvgW</th>\n",
       "      <td>45756.0</td>\n",
       "      <td>1.815152</td>\n",
       "      <td>1.013664</td>\n",
       "      <td>1.0000</td>\n",
       "      <td>1.2560</td>\n",
       "      <td>1.51280</td>\n",
       "      <td>2.0375</td>\n",
       "      <td>27.6</td>\n",
       "    </tr>\n",
       "    <tr>\n",
       "      <th>AvgL</th>\n",
       "      <td>45756.0</td>\n",
       "      <td>3.402327</td>\n",
       "      <td>3.190321</td>\n",
       "      <td>1.0064</td>\n",
       "      <td>1.7280</td>\n",
       "      <td>2.45625</td>\n",
       "      <td>3.7360</td>\n",
       "      <td>60.0</td>\n",
       "    </tr>\n",
       "    <tr>\n",
       "      <th>Winner win ratio</th>\n",
       "      <td>49249.0</td>\n",
       "      <td>0.531722</td>\n",
       "      <td>0.143883</td>\n",
       "      <td>0.0000</td>\n",
       "      <td>0.4455</td>\n",
       "      <td>0.53100</td>\n",
       "      <td>0.6148</td>\n",
       "      <td>1.0</td>\n",
       "    </tr>\n",
       "  </tbody>\n",
       "</table>\n",
       "</div>"
      ],
      "text/plain": [
       "                    count         mean          std     min       25%  \\\n",
       "ATP               49663.0    33.192679    18.092413  1.0000   19.0000   \n",
       "Best of           49663.0     3.371705     0.777983  3.0000    3.0000   \n",
       "WRank             49647.0    59.119544    73.640935  1.0000   17.0000   \n",
       "LRank             49559.0    92.466373   117.123204  1.0000   35.0000   \n",
       "W1                49415.0     5.793929     1.238380  0.0000    6.0000   \n",
       "L1                49416.0     4.048203     1.847254  0.0000    3.0000   \n",
       "W2                48919.0     5.773299     1.255283  0.0000    6.0000   \n",
       "L2                48920.0     3.864289     1.876281  0.0000    2.0000   \n",
       "W3                22774.0     6.020550     0.935368  0.0000    6.0000   \n",
       "L3                22774.0     3.596382     1.766727  0.0000    2.0000   \n",
       "W4                 4466.0     5.773847     1.274576  0.0000    6.0000   \n",
       "L4                 4466.0     3.866547     1.892075  0.0000    2.0000   \n",
       "W5                 1700.0     6.625882     2.266014  0.0000    6.0000   \n",
       "L5                 1700.0     3.748824     2.794065  0.0000    2.0000   \n",
       "Wsets             49453.0     2.140699     0.461382  0.0000    2.0000   \n",
       "Lsets             49452.0     0.406010     0.557399  0.0000    0.0000   \n",
       "CBW               17506.0     1.812080     0.868254  1.0000    1.2800   \n",
       "CBL               17506.0     3.000658     2.032791  1.0200    1.7200   \n",
       "GBW                5055.0     1.738742     0.614454  1.0100    1.3300   \n",
       "GBL                5055.0     2.401363     1.057305  1.0300    1.6550   \n",
       "IWW               13358.0     1.671585     0.585400  1.0100    1.3000   \n",
       "IWL               13358.0     2.387132     1.048818  1.0300    1.6500   \n",
       "SBW                5424.0     1.793035     0.751026  0.0000    1.3330   \n",
       "SBL                5424.0     2.672064     1.424672  0.0000    1.6700   \n",
       "B365W             41021.0     1.822448     1.109619  1.0000    1.2200   \n",
       "B365L             41044.0     3.574495     3.555480  1.0020    1.7200   \n",
       "B&WW               1097.0     1.728633     0.730434  1.0100    1.2500   \n",
       "B&WL               1097.0     2.547347     1.330386  1.0200    1.6000   \n",
       "EXW               36794.0     1.800726     0.963363  0.0000    1.2500   \n",
       "EXL               36800.0     3.283226     2.469359  1.0000    1.7500   \n",
       "PSW               34724.0     1.926817     1.352918  1.0000    1.2700   \n",
       "PSL               34724.0     4.241211     5.707410  1.0100    1.8000   \n",
       "WPts              33459.0  1839.647897  2327.666384  1.0000  635.0000   \n",
       "LPts              33401.0  1041.311817  1224.657790  1.0000  493.0000   \n",
       "UBW               10671.0     1.815867     0.996238  1.0100    1.2400   \n",
       "UBL               10671.0     3.542479     3.646316  1.0200    1.7500   \n",
       "LBW               25971.0     1.806538     1.043655  1.0000    1.2220   \n",
       "LBL               25982.0     3.485135     3.114618  1.0000    1.7300   \n",
       "SJW               15572.0     1.796538     1.004273  1.0000    1.2200   \n",
       "SJL               15579.0     3.557943     3.272510  1.0100    1.7300   \n",
       "MaxW              45756.0     1.927588     1.271223  1.0000    1.2900   \n",
       "MaxL              45756.0     4.014035     5.222226  1.0100    1.8000   \n",
       "AvgW              45756.0     1.815152     1.013664  1.0000    1.2560   \n",
       "AvgL              45756.0     3.402327     3.190321  1.0064    1.7280   \n",
       "Winner win ratio  49249.0     0.531722     0.143883  0.0000    0.4455   \n",
       "\n",
       "                         50%        75%      max  \n",
       "ATP                 33.00000    49.0000     69.0  \n",
       "Best of              3.00000     3.0000      5.0  \n",
       "WRank               41.00000    77.0000   1890.0  \n",
       "LRank               65.00000   105.0000   2159.0  \n",
       "W1                   6.00000     6.0000      7.0  \n",
       "L1                   4.00000     6.0000      7.0  \n",
       "W2                   6.00000     6.0000      7.0  \n",
       "L2                   4.00000     6.0000      7.0  \n",
       "W3                   6.00000     6.0000      7.0  \n",
       "L3                   4.00000     5.0000      7.0  \n",
       "W4                   6.00000     6.0000      7.0  \n",
       "L4                   4.00000     6.0000      7.0  \n",
       "W5                   6.00000     7.0000     70.0  \n",
       "L5                   3.00000     5.0000     68.0  \n",
       "Wsets                2.00000     2.0000      3.0  \n",
       "Lsets                0.00000     1.0000      2.0  \n",
       "CBW                  1.55000     2.0500     14.0  \n",
       "CBL                  2.37500     3.4000     25.0  \n",
       "GBW                  1.55000     1.9800      7.5  \n",
       "GBL                  2.10000     2.8000     11.0  \n",
       "IWW                  1.50000     1.8500      6.0  \n",
       "IWL                  2.10000     2.9000     10.0  \n",
       "SBW                  1.57100     2.1000      9.0  \n",
       "SBL                  2.25000     3.0000     13.0  \n",
       "B365W                1.50000     2.0000     29.0  \n",
       "B365L                2.50000     4.0000    101.0  \n",
       "B&WW                 1.50000     1.9500      7.5  \n",
       "B&WL                 2.15000     3.1000      9.0  \n",
       "EXW                  1.50000     2.0500     20.0  \n",
       "EXL                  2.50000     3.7500     40.0  \n",
       "PSW                  1.54300     2.1300     46.0  \n",
       "PSL                  2.67000     4.3000    121.0  \n",
       "WPts              1004.00000  1890.0000  16950.0  \n",
       "LPts               730.00000  1130.0000  16950.0  \n",
       "UBW                  1.50000     2.0300     18.0  \n",
       "UBL                  2.50000     3.8500     60.0  \n",
       "LBW                  1.50000     2.0000     26.0  \n",
       "LBL                  2.50000     4.0000     51.0  \n",
       "SJW                  1.50000     2.0000     19.0  \n",
       "SJL                  2.63000     4.0000     81.0  \n",
       "MaxW                 1.57000     2.1500     46.0  \n",
       "MaxL                 2.62500     4.0700    121.0  \n",
       "AvgW                 1.51280     2.0375     27.6  \n",
       "AvgL                 2.45625     3.7360     60.0  \n",
       "Winner win ratio     0.53100     0.6148      1.0  "
      ]
     },
     "execution_count": 21,
     "metadata": {},
     "output_type": "execute_result"
    }
   ],
   "source": [
    "# Checking outliers\n",
    "df_atp.describe().transpose()"
   ]
  },
  {
   "cell_type": "markdown",
   "metadata": {},
   "source": [
    "No more NaN or miscalculated values when odds data are available."
   ]
  },
  {
   "cell_type": "markdown",
   "metadata": {
    "ExecuteTime": {
     "end_time": "2021-01-27T16:11:53.086065Z",
     "start_time": "2021-01-27T16:11:53.064621Z"
    }
   },
   "source": [
    "##### Randomization of dataset"
   ]
  },
  {
   "cell_type": "markdown",
   "metadata": {},
   "source": [
    "In this section, we build an intermediary datasets in order to remove the inherent bias present in the original dataset regarding the Winner and Loser of the match. \n",
    "\n",
    "We shuffle and randomized the player associated features (like 'WRank', 'Winner', 'LRank...) that contains an informative for."
   ]
  },
  {
   "cell_type": "code",
   "execution_count": 22,
   "metadata": {
    "ExecuteTime": {
     "end_time": "2021-02-03T22:54:35.554526Z",
     "start_time": "2021-02-03T22:54:21.047208Z"
    },
    "code_folding": [
     0,
     44
    ]
   },
   "outputs": [
    {
     "data": {
      "application/vnd.jupyter.widget-view+json": {
       "model_id": "2074f3178e654c9fb93461bf73e5498c",
       "version_major": 2,
       "version_minor": 0
      },
      "text/plain": [
       "  0%|          | 0/49663 [00:00<?, ?it/s]"
      ]
     },
     "metadata": {},
     "output_type": "display_data"
    }
   ],
   "source": [
    "def randomize_features(match_data, player_1_data, player_2_data):\n",
    "    \"\"\"\n",
    "    Randomly distribute the winner's and loser's data in player 1 and player 2.\n",
    "    \n",
    "    Inputs \n",
    "    --------\n",
    "    match_data : dict :\n",
    "    player_1_data : dict :\n",
    "    player_2_data : dict :\n",
    "    \n",
    "    Returns \n",
    "    --------\n",
    "    new_features : dict : randomly distributed features row\n",
    "    \"\"\"\n",
    "    new_features = {'atp': match_data['atp'], 'location': match_data['location'], 'tournament': match_data['tournament'],\n",
    "                    'date': match_data['date'], 'series': match_data['series'], 'court': match_data['court'], \n",
    "                    'surface': match_data['surface'], 'round': match_data['round'], 'best_of': match_data['best_of'],\n",
    "                    'player_1':  player_1_data['name'], 'player_2':  player_2_data['name'], \n",
    "                    'player_1_rank':  player_1_data['rank'], 'player_2_rank':  player_2_data['rank'],\n",
    "                    'player_1_1':  player_1_data['1'], 'player_2_1':  player_2_data['1'],\n",
    "                    'player_1_2':  player_1_data['3'], 'player_2_2':  player_2_data['2'],\n",
    "                    'player_1_3':  player_1_data['3'], 'player_2_3':  player_2_data['3'],\n",
    "                    'player_1_4':  player_1_data['4'], 'player_2_4':  player_2_data['4'],\n",
    "                    'player_1_5':  player_1_data['5'], 'player_2_5':  player_2_data['5'],\n",
    "                    'player_1_sets':  player_1_data['sets'], 'player_2_sets':  player_2_data['sets'],\n",
    "                    'player_1_CB':  player_1_data['CB'], 'player_2_CB':  player_2_data['CB'],\n",
    "                    'player_1_GB':  player_1_data['GB'], 'player_2_GB':  player_2_data['GB'],\n",
    "                    'player_1_IW':  player_1_data['IW'], 'player_2_IW':  player_2_data['IW'],\n",
    "                    'player_1_SB':  player_1_data['SB'], 'player_2_SB':  player_2_data['SB'],\n",
    "                    'player_1_B365':  player_1_data['B365'], 'player_2_B365':  player_2_data['B365'],\n",
    "                    'player_1_B&W':  player_1_data['B&W'], 'player_2_B&W':  player_2_data['B&W'],\n",
    "                    'player_1_EX':  player_1_data['EX'], 'player_2_EX':  player_2_data['EX'],\n",
    "                    'player_1_PS':  player_1_data['PS'], 'player_2_PS':  player_2_data['PS'],\n",
    "                    'player_1_Pts':  player_1_data['pts'], 'player_2_Pts':  player_2_data['pts'],\n",
    "                    'player_1_UB':  player_1_data['UB'], 'player_2_UB':  player_2_data['UB'],\n",
    "                    'player_1_LB':  player_1_data['LB'], 'player_2_LB':  player_2_data['LB'],\n",
    "                    'player_1_SJ':  player_1_data['SJ'], 'player_2_SJ':  player_2_data['SJ'],\n",
    "                    'player_1_Max':  player_1_data['Max'], 'player_2_Max':  player_2_data['Max'],\n",
    "                    'player_1_Avg':  player_1_data['Avg'], 'player_2_Avg':  player_2_data['Avg'],\n",
    "                    'outcome': match_data['outcome']}\n",
    "    \n",
    "    return new_features\n",
    "\n",
    "\n",
    "def build_random_dataset(df_atp):\n",
    "    \"\"\"\n",
    "    Iteratively shuffle all row of the original df_atp dataset in order to prevent our learning of a bias such as\n",
    "    the outcome is always in the Winner column.\n",
    "    \n",
    "    Inputs \n",
    "    --------\n",
    "    df_atp : DataFrame : original dataframe\n",
    "    \n",
    "    Returns \n",
    "    --------\n",
    "    df_random_player_attribution : DataFrame : randomized dataframe\n",
    "    \"\"\"\n",
    "    all_data = []\n",
    "    for index, row in tqdm(df_atp.iterrows(), total=df_atp.shape[0]):\n",
    "        match_data = {'atp': row['ATP'], 'location': row['Location'], 'tournament': row['Tournament'], \n",
    "                      'date': row['Date'], 'series': row['Series'], 'court': row['Court'], 'surface': row['Surface'],\n",
    "                      'round': row['Round'], 'best_of': row['Best of']}\n",
    "\n",
    "        winner_stats = {'rank': row['WRank'], 'name': row['Winner'], '1': row['W1'], '2': row['W2'], '3': row['W3'], '4': row['W4'],\n",
    "                        '5': row['W5'], 'sets': row['Wsets'], 'CB': row['CBW'], 'GB': row['GBW'], 'IW': row['IWW'],\n",
    "                        'SB': row['SBW'], 'B365': row['B365W'], 'B&W': row['B&WW'], 'EX': row['EXW'], 'PS': row['PSW'],\n",
    "                        'UB': row['UBW'], 'LB': row['LBW'], 'SJ': row['SJW'], 'pts': row['WPts'], 'Max': row['MaxW'],\n",
    "                        'Avg': row['AvgW']}\n",
    "\n",
    "        loser_stats = {'rank': row['LRank'], 'name': row['Loser'], '1': row['L1'], '2': row['L2'], '3': row['L3'], '4': row['L4'],\n",
    "                       '5': row['L5'], 'sets': row['Lsets'], 'CB': row['CBL'], 'GB': row['GBL'], 'IW': row['IWL'],\n",
    "                       'SB': row['SBL'], 'B365': row['B365L'], 'B&W': row['B&WL'], 'EX': row['EXL'], 'PS': row['PSL'],\n",
    "                       'UB': row['UBL'], 'LB': row['LBL'], 'SJ': row['SJL'], 'pts': row['LPts'], 'Max': row['MaxL'],\n",
    "                       'Avg': row['AvgL']}\n",
    "\n",
    "        random_player_attribution = random.randint(0, 1)\n",
    "        if random_player_attribution == 0: # winner == player_1\n",
    "            match_data['outcome'] = 1\n",
    "            new_row = randomize_features(match_data, winner_stats, loser_stats)\n",
    "        else: # winner == player_2   \n",
    "            match_data['outcome'] = 0\n",
    "            new_row = randomize_features(match_data, loser_stats, winner_stats)\n",
    "\n",
    "        all_data.append(new_row)   \n",
    "\n",
    "    df_random_player_attribution = pd.DataFrame(all_data)\n",
    "    \n",
    "    return df_random_player_attribution\n",
    "\n",
    "\n",
    "df_random_player_attribution = build_random_dataset(df_atp)\n"
   ]
  },
  {
   "cell_type": "markdown",
   "metadata": {},
   "source": [
    "##### Categorical Encoding & Features Engineering "
   ]
  },
  {
   "cell_type": "markdown",
   "metadata": {},
   "source": [
    "In this section we engineer the features that will be used by our model to predict Tennis' matchs outcomes.\n",
    "\n",
    "**Encoding Categorical Features**:\n",
    "\n",
    "We encode **categorical features** using a target encoding approaches, using the player past win rate associated to each categorical feature. The idea behind this target encoding approach is that players have preferences regarding the type of surface (Nadal R. at Roland Garros), the tournament played, the round of the tournament (Gasquet R. has issue to win after 1/4 final, might be due to psycholigical pression)...\n",
    "For example, for the match opposing Nadal .R to XXXX in 20..... at Roland Garros, we transformed instead.\n",
    "\n",
    "\n",
    "**Features Engineering**:\n",
    "- **Statistical features** from player's gameplay at different window range. Suche features, like the global past win rate, the last 5/10/20 matchs win rate, or the last 5/10/20 average games won, gave us information about the global shape of the player, his more recent shape, his degree of fatigue...\n",
    "- **Odds features** can be interpreted as external tennis match predictors' outputs, giving us an idea of the \"more likely\" winning player. Besides, those information are available before the matchs so we can directly use the odds associated to a match to help us predict the current match outcome.\n",
    "\n",
    "\n",
    "\n",
    "We chose to take the **difference** between the stats of our 2 players (`diff_rank = player_1_rank - player_2_rank`), rather than each statistic indicidually. Indeed, such a symmetry allows our model not to rely on some undesired biases that might be present in the data regarding player 1 vs player 2 data distribution. On top of that, when comparing two statistics, their difference is in general a sufficient informative measure. Besides, it halves our number of features to consider."
   ]
  },
  {
   "cell_type": "markdown",
   "metadata": {},
   "source": [
    "--------"
   ]
  },
  {
   "cell_type": "markdown",
   "metadata": {},
   "source": [
    "Below, we give an exhaustive list of the encoded categorical and engineered features.\n",
    "\n",
    "Here are the encoded categorical features:\n",
    "- **diff_location_win_rate**: difference between player 1 and player 2 past win rate associated to the match's location.\n",
    "- **diff_tournament_win_rate**: difference between player 1 and player 2 past win rate associated to the match's tournament.\n",
    "- **diff_series_win_rate**: difference between player 1 and player 2 past win rate associated to the match's Serie\n",
    "- **diff_court_win_rate**: difference between player 1 and player 2 past win rate associated to the match's type of court.\n",
    "- **diff_surface_win_rate**: difference between player 1 and player 2 past win rate associated to the match's type surface.\n",
    "- **diff_best_of_win_rate**: difference between player 1 and player 2 past win rate associated to the match's best of.\n",
    "\n",
    "Here are the players statistics engineered features:\n",
    "- **diff_rank**: difference between player 1 and player 2 ranks at the moment of the match.\n",
    "- **diff_Pts**: difference between player 1 and player 2 ATP points at the moment of the match.\n",
    "- **diff_global_win_rate**: difference between player 1 and player 2 past win rate at the match's court\n",
    "- **diff_past_5_win_rate**: difference between player 1 and player 2 past 5 matchs win rate at the moment of the match.\n",
    "- **diff_past_10_win_rate**: difference between player 1 and player 2 past 10 matchs win rate at the moment of the match.\n",
    "- **diff_past_20_win_rate**: difference between player 1 and player 2 past 20 matchs win rate at the moment of the match.\n",
    "- **diff_global_avg_games_won_first_set**: difference between player 1 and player 2 past average games won during the first set.\n",
    "- **diff_past_5_avg_games_won_first_set**: difference between player 1 and player 2 past 5 matchs average games won during the first set.\n",
    "- **diff_past_10_avg_games_won_first_set**: difference between player 1 and player 2 past 10 matchs average games won during the first set.\n",
    "- **diff_past_20_avg_games_won_first_set**: difference between player 1 and player 2 past 20 matchs average games won during the first set.\n",
    "- **diff_global_avg_games_won_second_set**: difference between player 1 and player 2 past average games won during the second set.\n",
    "- **diff_past_5_avg_games_won_second_set**: difference between player 1 and player 2 past 5 matchs average games won during the second set.\n",
    "- **diff_past_10_avg_games_won_second_set**: difference between player 1 and player 2 past 10 matchs average games won during the second set.\n",
    "- **diff_past_20_avg_games_won_second_set**: difference between player 1 and player 2 past 20 matchs average games won during the second set.\n",
    "- **diff_global_avg_games_won_third_set**: difference between player 1 and player 2 past average games won during the third set.\n",
    "- **diff_past_5_avg_games_won_third_set**: difference between player 1 and player 2 past 5 matchs average games won during the third set.\n",
    "- **diff_past_10_avg_games_won_third_set**: difference between player 1 and player 2 past 10 matchs average games won during the third set.\n",
    "- **diff_past_20_avg_games_won_third_set**: difference between player 1 and player 2 past 20 matchs average games won during the third set.\n",
    "- **diff_global_avg_games_won_fourth_set**: difference between player 1 and player 2 past average games won during the fourth set.\n",
    "- **diff_past_5_avg_games_won_fourth_set**: difference between player 1 and player 2 past 5 matchs average games won during the fourth set.\n",
    "- **diff_past_10_avg_games_won_fourth_set**: difference between player 1 and player 2 past 10 matchs average games won during the fourth set.\n",
    "- **diff_past_20_avg_games_won_fourth_set**: difference between player 1 and player 2 past 20 matchs average games won during the fourth set.\n",
    "- **diff_global_avg_games_won_fifth_set**: difference between player 1 and player 2 past average games won during the fifth set.\n",
    "- **diff_past_5_avg_games_won_fifth_set**: difference between player 1 and player 2 past 5 matchs average games won during the fifth set.\n",
    "- **diff_past_10_avg_games_won_fifth_set**: difference between player 1 and player 2 past 10 matchs average games won during the fifth set.\n",
    "- **diff_past_20_avg_games_won_fifth_set**: difference between player 1 and player 2 past 20 matchs average games won during the fifth set.\n",
    "- **diff_global_past_avg_won_sets**: difference between player 1 and player 2 past avergae won sets.\n",
    "- **diff_past_5_avg_won_sets**: difference between player 1 and player 2 past 5 matchs avergae won sets.\n",
    "- **diff_past_10_avg_won_sets**: difference between player 1 and player 2 past 10 matchs avergae won sets.\n",
    "- **diff_past_20_avg_won_sets**: difference between player 1 and player 2 past 20 matchs avergae won sets.\n",
    "\n",
    "Here are the odds engineered features:\n",
    "- **diff_CB**: difference between player 1 and player 2 odds from CenterBet for the current match.\n",
    "- **diff_GB**: difference between player 1 and player 2 odds from Gamebookers for the current match.\n",
    "- **diff_IW**: difference between player 1 and player 2 odds from Interwetten for the current match.\n",
    "- **diff_SB**: difference between player 1 and player 2 odds from Sportingbet for the current match.\n",
    "- **diff_B365**: difference between player 1 and player 2 odds from Bet365 for the current match.\n",
    "- **diff_B&W**: difference between player 1 and player 2 odds from Bet&Win for the current match.\n",
    "- **diff_EX**: difference between player 1 and player 2 odds from Expekt for the current match.\n",
    "- **diff_PS**: difference between player 1 and player 2 odds from Pinnacles for the current match.\n",
    "- **diff_UB**: difference between player 1 and player 2 odds from Unibet for the current match.\n",
    "- **diff_LB**: difference between player 1 and player 2 odds from Ladbrokes for the current match.\n",
    "- **diff_SJ**: difference between player 1 and player 2 odds from Stan James for the current match.\n",
    "- **diff_Max**: difference between player 1 and player 2 max odds.\n",
    "- **diff_Avg**: difference between player 1 and player 2 average odds.\n"
   ]
  },
  {
   "cell_type": "markdown",
   "metadata": {},
   "source": [
    "-------"
   ]
  },
  {
   "cell_type": "markdown",
   "metadata": {},
   "source": [
    "The main function of this section `build_dataset()` is quite heavy to read given the number of computed features but eady to understand. \n",
    "\n",
    "Here is a description of what it does:\n",
    "\n",
    "1/ **Initialise** caches for all the player and their associated stats\n",
    "\n",
    "2/ For all matchs in the dataset with respect to their chronological order:\n",
    "- **Get** the stats of the past match's players stats (takes O(1) given caches are dict) and some of the current match statistics that does not leak future information (like players' rank, players' points, betting odds).\n",
    "- **Compute** the engineered features for the current match.\n",
    "- **Update** the relevant players' caches regarding the current match statistics.\n",
    "\n",
    "\n",
    "This cache approach allows to efficiently compute (in ~ 30s) the engineered features on all the dataset's matchs. "
   ]
  },
  {
   "cell_type": "code",
   "execution_count": 23,
   "metadata": {
    "ExecuteTime": {
     "end_time": "2021-02-03T22:54:36.149512Z",
     "start_time": "2021-02-03T22:54:35.562518Z"
    },
    "code_folding": [
     28,
     33
    ]
   },
   "outputs": [],
   "source": [
    "df = df_random_player_attribution.copy()\n",
    "\n",
    "all_players = set(list(df.player_1.unique()) + list(df.player_2.unique()))\n",
    "\n",
    "# Categorical features caches\n",
    "list_location = df.location.unique()\n",
    "location_cache = {player: {location: [0, 0] for location in list_location} for player in all_players}\n",
    "\n",
    "list_tournament = df.tournament.unique()\n",
    "tournament_cache = {player: {tournament: [0, 0] for tournament in list_tournament} for player in all_players}\n",
    "\n",
    "list_series = df.series.unique()\n",
    "series_cache = {player: {series: [0, 0] for series in list_series} for player in all_players}\n",
    "\n",
    "list_court = df.court.unique()\n",
    "court_cache = {player: {court: [0, 0] for court in list_court} for player in all_players}\n",
    "\n",
    "list_surface = df.surface.unique()\n",
    "surface_cache = {player: {surface: [0, 0] for surface in list_surface} for player in all_players}\n",
    "\n",
    "list_round = df['round'].unique()\n",
    "round_cache = {player: {_round: [0, 0] for _round in list_round} for player in all_players}\n",
    "\n",
    "list_best_of = df.best_of.unique()\n",
    "best_of_cache = {player: {best_of: [0, 0] for best_of in list_best_of} for player in all_players}\n",
    "\n",
    "\n",
    "# Statistical features caches\n",
    "statistical_win_rate_cache = {player: {'global_win_rate': [0, 0],\n",
    "                                       'past_5_win_rate': [np.nan for _ in range(5)], \n",
    "                                       'past_10_win_rate': [np.nan for _ in range(10)], \n",
    "                                       'past_20_win_rate': [np.nan for _ in range(20)]} for player in all_players}\n",
    "\n",
    "statistical_avg_stats_cache = {player: {'global_avg_games_won_first_set': [0, 0],\n",
    "                                        'past_5_avg_games_won_first_set': [np.nan for _ in range(5)], \n",
    "                                        'past_10_avg_games_won_first_set': [np.nan for _ in range(10)], \n",
    "                                        'past_20_avg_games_won_first_set': [np.nan for _ in range(20)], \n",
    "                                        \n",
    "                                        'global_avg_games_won_second_set': [0, 0],\n",
    "                                        'past_5_avg_games_won_second_set': [np.nan for _ in range(5)], \n",
    "                                        'past_10_avg_games_won_second_set': [np.nan for _ in range(10)], \n",
    "                                        'past_20_avg_games_won_second_set': [np.nan for _ in range(20)],\n",
    "                                        \n",
    "                                        'global_avg_games_won_third_set': [0, 0],\n",
    "                                        'past_5_avg_games_won_third_set': [np.nan for _ in range(5)], \n",
    "                                        'past_10_avg_games_won_third_set': [np.nan for _ in range(10)], \n",
    "                                        'past_20_avg_games_won_third_set': [np.nan for _ in range(20)],\n",
    "                                        \n",
    "                                        'global_avg_games_won_fourth_set': [0, 0],\n",
    "                                        'past_5_avg_games_won_fourth_set': [np.nan for _ in range(5)], \n",
    "                                        'past_10_avg_games_won_fourth_set': [np.nan for _ in range(10)], \n",
    "                                        'past_20_avg_games_won_fourth_set': [np.nan for _ in range(20)],\n",
    "                                       \n",
    "                                        'global_avg_games_won_fifth_set': [0, 0],\n",
    "                                        'past_5_avg_games_won_fifth_set': [np.nan for _ in range(5)], \n",
    "                                        'past_10_avg_games_won_fifth_set': [np.nan for _ in range(10)], \n",
    "                                        'past_20_avg_games_won_fifth_set': [np.nan for _ in range(20)],\n",
    "                                       \n",
    "                                        'global_past_won_sets': [0, 0],\n",
    "                                        'past_5_won_sets': [np.nan for _ in range(5)], \n",
    "                                        'past_10_won_sets': [np.nan for _ in range(10)], \n",
    "                                        'past_20_won_sets': [np.nan for _ in range(20)]} for player in all_players}\n",
    "\n"
   ]
  },
  {
   "cell_type": "code",
   "execution_count": 24,
   "metadata": {
    "ExecuteTime": {
     "end_time": "2021-02-03T22:54:36.215947Z",
     "start_time": "2021-02-03T22:54:36.154116Z"
    },
    "code_folding": [
     0,
     31,
     64,
     108
    ]
   },
   "outputs": [],
   "source": [
    "def compute_diff(cache, player_1, player_2, feature, window):\n",
    "    \"\"\"\n",
    "    Compute the difference between the statistics\n",
    "    \n",
    "    Inputs \n",
    "    --------\n",
    "    cache : dict : dataset to normalize\n",
    "    player_1 : str : player's 1 name\n",
    "    player_2 : str : player's 2 name\n",
    "    feature : str : the feature to update\n",
    "    window : str : either it is a 'global' (all past matchs are considered) or a 'local' (only a limited \n",
    "                   number of matchs are considered) feature\n",
    "    \"\"\"\n",
    "    if (window == 'global'):\n",
    "        if (cache[player_1][feature][1] > 0) and (cache[player_2][feature][1] > 0):\n",
    "            stat_1 = round(cache[player_1][feature][0] / cache[player_1][feature][1], 4)\n",
    "            stat_2 = round(cache[player_2][feature][0] / cache[player_2][feature][1], 4) \n",
    "        else:\n",
    "            stat_1 = np.nan\n",
    "            stat_2 = np.nan\n",
    "            \n",
    "    elif (window == 'local'):\n",
    "        stat_1 = round(sum(cache[player_1][feature]) / len(cache[player_1][feature]), 4)\n",
    "        stat_2 = round(sum(cache[player_2][feature]) / len(cache[player_2][feature]), 4)  \n",
    "        \n",
    "    else:\n",
    "        raise Exception(\"Wrong window mode, must be 'global' or 'local'.\")\n",
    "        \n",
    "    diff = stat_1 - stat_2\n",
    "    return diff\n",
    "\n",
    "def update_win_rate_cache(cache, winning_player, loosing_player, feature, window):\n",
    "    \"\"\"\n",
    "    Update the the statistical_win_rate_cache with the current match's outcome.\n",
    "    \n",
    "    Inputs \n",
    "    --------\n",
    "    cache : dict : dictionary that keeps track of the \n",
    "    winning_player : str : winning player's name\n",
    "    loosing_player : str : loosing player's name\n",
    "    feature : str : the feature to update\n",
    "    window : str : either it is a 'global' (all past matchs are considered) or a 'local' (only a limited \n",
    "                   number of matchs are considered) feature\n",
    "    \"\"\"\n",
    "    if (window == 'global'):\n",
    "        # Add a win and a match to the winning_player counter\n",
    "        cache[winning_player][feature][0] += 1\n",
    "        cache[winning_player][feature][1] += 1\n",
    "        \n",
    "        # Add a match to the loosing_player counter\n",
    "        cache[loosing_player][feature][1] += 1\n",
    "        \n",
    "    elif (window == 'local'):\n",
    "        # Add a win to the winning player past window, and pop latest match in the past window\n",
    "        cache[winning_player][feature].append(1)\n",
    "        cache[winning_player][feature].pop(0)\n",
    "        \n",
    "        # Add a lose to the loosing player past window, and pop latest match in the past window\n",
    "        cache[loosing_player][feature].append(0)\n",
    "        cache[loosing_player][feature].pop(0)\n",
    "\n",
    "    else:\n",
    "        raise Exception(\"Wrong window mode, must be 'global' or 'local'.\")\n",
    "                  \n",
    "def update_avg_stats_cache(cache, winning_player, loosing_player, winner_stats, looser_stats, feature, window):\n",
    "    \"\"\"\n",
    "    Update the the statistical_avg_stats_cache with the current match's stats.\n",
    "    \n",
    "    Inputs \n",
    "    --------\n",
    "    cache : dict : dictionary that keeps track of the \n",
    "    winning_player : str : winning player's name\n",
    "    loosing_player : str : loosing player's name\n",
    "    winner_stats : float : \n",
    "    looser_stats : float\n",
    "    feature : str : the feature to update\n",
    "    window : str : either it is a 'global' (all past matchs are considered) or a 'local' (only a limited \n",
    "                   number of matchs are considered) feature\n",
    "    \"\"\"\n",
    "    #print(winner_stats, looser_stats)\n",
    "    #print(np.isnan(winner_stats))\n",
    "    #print(np.isnan(looser_stats))\n",
    "    #print((np.isnan(winner_stats)) and (np.isnan(looser_stats)))\n",
    "    #print()\n",
    "    # Check if the match stats are not NaN\n",
    "    if (not np.isnan(winner_stats)) and (not np.isnan(looser_stats)):\n",
    "        \n",
    "        if (window == 'global'):\n",
    "            # Add the winner stats to the sum of the desired statis and a match to the winning_player counter\n",
    "            cache[winning_player][feature][0] += winner_stats\n",
    "            cache[winning_player][feature][1] += 1\n",
    "\n",
    "            # Add a match to the loosing_player counter\n",
    "            cache[winning_player][feature][0] += looser_stats\n",
    "            cache[loosing_player][feature][1] += 1\n",
    "\n",
    "        elif (window == 'local'):\n",
    "            # Add the winner stats to list of past winning stats, and pop latest match stats in the past window\n",
    "            cache[winning_player][feature].append(winner_stats)\n",
    "            cache[winning_player][feature].pop(0)\n",
    "\n",
    "            # Add a lose to the loosing player past window, and pop latest match stats in the past window\n",
    "            cache[loosing_player][feature].append(looser_stats)\n",
    "            cache[loosing_player][feature].pop(0)\n",
    "\n",
    "        else:\n",
    "            raise Exception(\"Wrong window mode, must be 'global' or 'local'.\")\n",
    "\n",
    "def build_dataset(df):\n",
    "    \"\"\"\n",
    "    Incrementaly build the engineered features dataset using cached data for speed efficiency.\n",
    "    \n",
    "    Inputs \n",
    "    --------\n",
    "    df : DataFrame : \n",
    "    \n",
    "    Returns \n",
    "    --------\n",
    "    dataset : DataFrame : engineered features dataset \n",
    "    \"\"\"\n",
    "    all_data = []\n",
    "\n",
    "    for index, row in tqdm(df.iterrows(), total=df.shape[0]):\n",
    "        player_1 = row['player_1']\n",
    "        player_2 = row['player_2'] \n",
    "\n",
    "        location = row['location']\n",
    "        tournament = row['tournament']\n",
    "        series = row['series']\n",
    "        court = row['court']\n",
    "        surface = row['surface']\n",
    "        _round = row['round']\n",
    "        best_of = row['best_of']\n",
    "\n",
    "        outcome = row['outcome']\n",
    "\n",
    "        ################################\n",
    "        ##### FEATURES ENGINEERING #####\n",
    "        ################################ \n",
    "        featured_row = {}\n",
    "\n",
    "        featured_row['date'] = row['date']\n",
    "        featured_row['player_1'] = player_1\n",
    "        featured_row['player_2'] = player_2\n",
    "\n",
    "        # Categorical encoded features\n",
    "        featured_row['diff_location_win_rate'] = compute_diff(location_cache, player_1, player_2, location, window='global')\n",
    "        featured_row['diff_tournament_win_rate'] = compute_diff(tournament_cache, player_1, player_2, tournament, window='global')\n",
    "        featured_row['diff_series_win_rate'] = compute_diff(series_cache, player_1, player_2, series, window='global')\n",
    "        featured_row['diff_court_win_rate'] = compute_diff(court_cache, player_1, player_2, court, window='global')\n",
    "        featured_row['diff_surface_win_rate'] = compute_diff(surface_cache, player_1, player_2, surface, window='global')\n",
    "        featured_row['diff_round_win_rate'] = compute_diff(round_cache, player_1, player_2, _round, window='global')\n",
    "        featured_row['diff_best_of_win_rate'] = compute_diff(best_of_cache, player_1, player_2, best_of, window='global')\n",
    "\n",
    "        # Tennis statistical features\n",
    "        featured_row['diff_rank'] = row['player_1_rank'] - row['player_2_rank']\n",
    "        featured_row['diff_Pts'] = row['player_1_Pts'] - row['player_2_Pts']\n",
    "\n",
    "        featured_row['diff_global_win_rate'] = compute_diff(statistical_win_rate_cache, player_1, player_2, 'global_win_rate', window='global')\n",
    "        featured_row['diff_past_5_win_rate'] = compute_diff(statistical_win_rate_cache, player_1, player_2, 'past_5_win_rate', window='local')\n",
    "        featured_row['diff_past_10_win_rate'] = compute_diff(statistical_win_rate_cache, player_1, player_2, 'past_10_win_rate', window='local')\n",
    "        featured_row['diff_past_20_win_rate'] = compute_diff(statistical_win_rate_cache, player_1, player_2, 'past_20_win_rate', window='local')\n",
    "\n",
    "        featured_row['diff_global_avg_games_won_first_set'] = compute_diff(statistical_avg_stats_cache, player_1, player_2, 'global_avg_games_won_first_set', window='global')\n",
    "        featured_row['diff_past_5_avg_games_won_first_set'] = compute_diff(statistical_avg_stats_cache, player_1, player_2, 'past_5_avg_games_won_first_set', window='local')\n",
    "        featured_row['diff_past_10_avg_games_won_first_set'] = compute_diff(statistical_avg_stats_cache, player_1, player_2, 'past_10_avg_games_won_first_set', window='local')\n",
    "        featured_row['diff_past_20_avg_games_won_first_set'] = compute_diff(statistical_avg_stats_cache, player_1, player_2, 'past_20_avg_games_won_first_set', window='local')\n",
    "\n",
    "        featured_row['diff_global_avg_games_won_second_set'] = compute_diff(statistical_avg_stats_cache, player_1, player_2, 'global_avg_games_won_second_set', window='global')\n",
    "        featured_row['diff_past_5_avg_games_won_second_set'] = compute_diff(statistical_avg_stats_cache, player_1, player_2, 'past_5_avg_games_won_second_set', window='local')\n",
    "        featured_row['diff_past_10_avg_games_won_second_set'] = compute_diff(statistical_avg_stats_cache, player_1, player_2, 'past_10_avg_games_won_second_set', window='local')\n",
    "        featured_row['diff_past_20_avg_games_won_second_set'] = compute_diff(statistical_avg_stats_cache, player_1, player_2, 'past_20_avg_games_won_second_set', window='local')\n",
    "\n",
    "        featured_row['diff_global_avg_games_won_third_set'] = compute_diff(statistical_avg_stats_cache, player_1, player_2, 'global_avg_games_won_third_set', window='global')\n",
    "        featured_row['diff_past_5_avg_games_won_third_set'] = compute_diff(statistical_avg_stats_cache, player_1, player_2, 'past_5_avg_games_won_third_set', window='local')\n",
    "        featured_row['diff_past_10_avg_games_won_third_set'] = compute_diff(statistical_avg_stats_cache, player_1, player_2, 'past_10_avg_games_won_third_set', window='local')\n",
    "        featured_row['diff_past_20_avg_games_won_third_set'] = compute_diff(statistical_avg_stats_cache, player_1, player_2, 'past_20_avg_games_won_third_set', window='local')\n",
    "\n",
    "        featured_row['diff_global_avg_games_won_fourth_set'] = compute_diff(statistical_avg_stats_cache, player_1, player_2, 'global_avg_games_won_fourth_set', window='global')\n",
    "        featured_row['diff_past_5_avg_games_won_fourth_set'] = compute_diff(statistical_avg_stats_cache, player_1, player_2, 'past_5_avg_games_won_fourth_set', window='local')\n",
    "        featured_row['diff_past_10_avg_games_won_fourth_set'] = compute_diff(statistical_avg_stats_cache, player_1, player_2, 'past_10_avg_games_won_fourth_set', window='local')\n",
    "        featured_row['diff_past_20_avg_games_won_fourth_set'] = compute_diff(statistical_avg_stats_cache, player_1, player_2, 'past_20_avg_games_won_fourth_set', window='local')\n",
    "\n",
    "        featured_row['diff_global_avg_games_won_fifth_set'] = compute_diff(statistical_avg_stats_cache, player_1, player_2, 'global_avg_games_won_fifth_set', window='global')\n",
    "        featured_row['diff_past_5_avg_games_won_fifth_set'] = compute_diff(statistical_avg_stats_cache, player_1, player_2, 'past_5_avg_games_won_fifth_set', window='local')\n",
    "        featured_row['diff_past_10_avg_games_won_fifth_set'] = compute_diff(statistical_avg_stats_cache, player_1, player_2, 'past_10_avg_games_won_fifth_set', window='local')\n",
    "        featured_row['diff_past_20_avg_games_won_fifth_set'] = compute_diff(statistical_avg_stats_cache, player_1, player_2, 'past_20_avg_games_won_fifth_set', window='local')\n",
    "\n",
    "        featured_row['diff_global_past_won_sets'] = compute_diff(statistical_avg_stats_cache, player_1, player_2, 'global_past_won_sets', window='global')\n",
    "        featured_row['diff_past_5_won_sets'] = compute_diff(statistical_avg_stats_cache, player_1, player_2, 'past_5_won_sets', window='local')\n",
    "        featured_row['diff_past_10_won_sets'] = compute_diff(statistical_avg_stats_cache, player_1, player_2, 'past_10_won_sets', window='local')\n",
    "        featured_row['diff_past_20_won_sets'] = compute_diff(statistical_avg_stats_cache, player_1, player_2, 'past_20_won_sets', window='local')\n",
    "\n",
    "        # Odds features\n",
    "        featured_row['diff_CB'] = row['player_1_CB'] - row['player_2_rank']\n",
    "        featured_row['diff_GB'] = row['player_1_GB'] - row['player_2_GB']\n",
    "        featured_row['diff_IW'] = row['player_1_IW'] - row['player_2_IW']\n",
    "        featured_row['diff_SB'] = row['player_1_SB'] - row['player_2_SB']\n",
    "        featured_row['diff_B365'] = row['player_1_B365'] - row['player_2_B365']\n",
    "        featured_row['diff_B&W'] = row['player_1_B&W'] - row['player_2_B&W']\n",
    "        featured_row['diff_EX'] = row['player_1_EX'] - row['player_2_EX']\n",
    "        featured_row['diff_PS'] = row['player_1_PS'] - row['player_2_PS']\n",
    "        featured_row['diff_UB'] = row['player_1_UB'] - row['player_2_UB']\n",
    "        featured_row['diff_LB'] = row['player_1_LB'] - row['player_2_LB']\n",
    "        featured_row['diff_SJ'] = row['player_1_SJ'] - row['player_2_SJ']\n",
    "        featured_row['diff_Max'] = row['player_1_Max'] - row['player_2_Max']\n",
    "        featured_row['diff_Avg'] = row['player_1_Avg'] - row['player_2_Avg']\n",
    "\n",
    "        # Outcome\n",
    "        featured_row['outcome'] = row['outcome']\n",
    "\n",
    "        # Add all the engineered data \n",
    "        all_data.append(featured_row)\n",
    "\n",
    "        ########################\n",
    "        ##### UPDATE CACHE #####\n",
    "        ########################\n",
    "        # player 1 won\n",
    "        if outcome == 1:\n",
    "            winning_player = player_1\n",
    "            winner_games_1 = row['player_1_1']\n",
    "            winner_games_2 = row['player_1_2']\n",
    "            winner_games_3 = row['player_1_3']\n",
    "            winner_games_4 = row['player_1_4']\n",
    "            winner_games_5 = row['player_1_5']\n",
    "            winner_sets = row['player_1_sets']\n",
    "\n",
    "\n",
    "            loosing_player = player_2\n",
    "            looser_games_1 = row['player_2_1']\n",
    "            looser_games_2 = row['player_2_2']\n",
    "            looser_games_3 = row['player_2_3']\n",
    "            looser_games_4 = row['player_2_4']\n",
    "            looser_games_5 = row['player_2_5']\n",
    "            looser_sets = row['player_2_sets']\n",
    "\n",
    "        # player 2 won \n",
    "        else:\n",
    "            winning_player = player_2\n",
    "            winner_games_1 = row['player_2_1']\n",
    "            winner_games_2 = row['player_2_2']\n",
    "            winner_games_3 = row['player_2_3']\n",
    "            winner_games_4 = row['player_2_4']\n",
    "            winner_games_5 = row['player_2_5']\n",
    "            winner_sets = row['player_2_sets']\n",
    "\n",
    "            loosing_player = player_1\n",
    "            looser_games_1 = row['player_1_1']\n",
    "            looser_games_2 = row['player_1_2']\n",
    "            looser_games_3 = row['player_1_3']\n",
    "            looser_games_4 = row['player_1_4']\n",
    "            looser_games_5 = row['player_1_5']\n",
    "            looser_sets = row['player_1_sets']\n",
    "\n",
    "        # Update the caches regarding the outcome of the current match\n",
    "        update_win_rate_cache(location_cache, winning_player, loosing_player, location, window='global')\n",
    "        update_win_rate_cache(tournament_cache, winning_player, loosing_player, tournament, window='global')\n",
    "        update_win_rate_cache(series_cache, winning_player, loosing_player, series, window='global')\n",
    "        update_win_rate_cache(court_cache, winning_player, loosing_player, court, window='global')\n",
    "        update_win_rate_cache(surface_cache, winning_player, loosing_player, surface, window='global')\n",
    "        update_win_rate_cache(round_cache, winning_player, loosing_player, _round, window='global')\n",
    "        update_win_rate_cache(best_of_cache, winning_player, loosing_player, best_of, window='global')\n",
    "\n",
    "        update_win_rate_cache(statistical_win_rate_cache, winning_player, loosing_player, 'global_win_rate', window='global')\n",
    "        update_win_rate_cache(statistical_win_rate_cache, winning_player, loosing_player, 'past_5_win_rate', window='local')\n",
    "        update_win_rate_cache(statistical_win_rate_cache, winning_player, loosing_player, 'past_10_win_rate', window='local')\n",
    "        update_win_rate_cache(statistical_win_rate_cache, winning_player, loosing_player, 'past_20_win_rate', window='local')\n",
    "\n",
    "        update_avg_stats_cache(statistical_avg_stats_cache, winning_player, loosing_player, winner_games_1, looser_games_1, 'global_avg_games_won_first_set', window='global')\n",
    "        update_avg_stats_cache(statistical_avg_stats_cache, winning_player, loosing_player, winner_games_1, looser_games_1, 'past_5_avg_games_won_first_set', window='local')\n",
    "        update_avg_stats_cache(statistical_avg_stats_cache, winning_player, loosing_player, winner_games_1, looser_games_1, 'past_10_avg_games_won_first_set', window='local')\n",
    "        update_avg_stats_cache(statistical_avg_stats_cache, winning_player, loosing_player, winner_games_1, looser_games_1, 'past_20_avg_games_won_first_set', window='local')\n",
    "\n",
    "        update_avg_stats_cache(statistical_avg_stats_cache, winning_player, loosing_player, winner_games_2, looser_games_2, 'global_avg_games_won_second_set', window='global')\n",
    "        update_avg_stats_cache(statistical_avg_stats_cache, winning_player, loosing_player, winner_games_2, looser_games_2, 'past_5_avg_games_won_second_set', window='local')\n",
    "        update_avg_stats_cache(statistical_avg_stats_cache, winning_player, loosing_player, winner_games_2, looser_games_2, 'past_10_avg_games_won_second_set', window='local')\n",
    "        update_avg_stats_cache(statistical_avg_stats_cache, winning_player, loosing_player, winner_games_2, looser_games_2, 'past_20_avg_games_won_second_set', window='local')\n",
    "\n",
    "        update_avg_stats_cache(statistical_avg_stats_cache, winning_player, loosing_player, winner_games_3, looser_games_3, 'global_avg_games_won_third_set', window='global')\n",
    "        update_avg_stats_cache(statistical_avg_stats_cache, winning_player, loosing_player, winner_games_3, looser_games_3, 'past_5_avg_games_won_third_set', window='local')\n",
    "        update_avg_stats_cache(statistical_avg_stats_cache, winning_player, loosing_player, winner_games_3, looser_games_3, 'past_10_avg_games_won_third_set', window='local')\n",
    "        update_avg_stats_cache(statistical_avg_stats_cache, winning_player, loosing_player, winner_games_3, looser_games_3, 'past_20_avg_games_won_third_set', window='local')\n",
    "\n",
    "        update_avg_stats_cache(statistical_avg_stats_cache, winning_player, loosing_player, winner_games_4, looser_games_4, 'global_avg_games_won_fourth_set', window='global')\n",
    "        update_avg_stats_cache(statistical_avg_stats_cache, winning_player, loosing_player, winner_games_4, looser_games_4, 'past_5_avg_games_won_fourth_set', window='local')\n",
    "        update_avg_stats_cache(statistical_avg_stats_cache, winning_player, loosing_player, winner_games_4, looser_games_4, 'past_10_avg_games_won_fourth_set', window='local')\n",
    "        update_avg_stats_cache(statistical_avg_stats_cache, winning_player, loosing_player, winner_games_4, looser_games_4, 'past_20_avg_games_won_fourth_set', window='local')\n",
    "\n",
    "        update_avg_stats_cache(statistical_avg_stats_cache, winning_player, loosing_player, winner_games_5, looser_games_5, 'global_avg_games_won_fifth_set', window='global')\n",
    "        update_avg_stats_cache(statistical_avg_stats_cache, winning_player, loosing_player, winner_games_5, looser_games_5, 'past_5_avg_games_won_fifth_set', window='local')\n",
    "        update_avg_stats_cache(statistical_avg_stats_cache, winning_player, loosing_player, winner_games_5, looser_games_5, 'past_10_avg_games_won_fifth_set', window='local')\n",
    "        update_avg_stats_cache(statistical_avg_stats_cache, winning_player, loosing_player, winner_games_5, looser_games_5, 'past_20_avg_games_won_fifth_set', window='local')\n",
    "\n",
    "        update_avg_stats_cache(statistical_avg_stats_cache, winning_player, loosing_player, winner_sets, looser_sets, 'global_past_won_sets', window='global')\n",
    "        update_avg_stats_cache(statistical_avg_stats_cache, winning_player, loosing_player, winner_sets, looser_sets, 'past_5_won_sets', window='local')\n",
    "        update_avg_stats_cache(statistical_avg_stats_cache, winning_player, loosing_player, winner_sets, looser_sets, 'past_10_won_sets', window='local')\n",
    "        update_avg_stats_cache(statistical_avg_stats_cache, winning_player, loosing_player, winner_sets, looser_sets, 'past_20_won_sets', window='local')\n",
    "    \n",
    "    # Create dataset\n",
    "    dataset = pd.DataFrame(all_data)\n",
    "    \n",
    "    return dataset\n",
    "    "
   ]
  },
  {
   "cell_type": "code",
   "execution_count": 25,
   "metadata": {
    "ExecuteTime": {
     "end_time": "2021-02-03T22:54:58.948131Z",
     "start_time": "2021-02-03T22:54:36.219202Z"
    }
   },
   "outputs": [
    {
     "data": {
      "application/vnd.jupyter.widget-view+json": {
       "model_id": "be5b7ebe833f449f8b170bbea826fb03",
       "version_major": 2,
       "version_minor": 0
      },
      "text/plain": [
       "  0%|          | 0/49663 [00:00<?, ?it/s]"
      ]
     },
     "metadata": {},
     "output_type": "display_data"
    }
   ],
   "source": [
    "dataset = build_dataset(df)"
   ]
  },
  {
   "cell_type": "code",
   "execution_count": 26,
   "metadata": {
    "ExecuteTime": {
     "end_time": "2021-02-03T22:54:58.962154Z",
     "start_time": "2021-02-03T22:54:58.950172Z"
    }
   },
   "outputs": [
    {
     "data": {
      "text/plain": [
       "count    49663.000000\n",
       "mean         0.499305\n",
       "std          0.500005\n",
       "min          0.000000\n",
       "25%          0.000000\n",
       "50%          0.000000\n",
       "75%          1.000000\n",
       "max          1.000000\n",
       "Name: outcome, dtype: float64"
      ]
     },
     "execution_count": 26,
     "metadata": {},
     "output_type": "execute_result"
    }
   ],
   "source": [
    "dataset['outcome'].describe()"
   ]
  },
  {
   "cell_type": "markdown",
   "metadata": {},
   "source": [
    "We observe a balance outcome class, meaning there are as many winning player_1 as winning player_2.\n",
    "\n",
    "**Accuracy** will be a sufficient metric to evaluate our models's performance. "
   ]
  },
  {
   "cell_type": "markdown",
   "metadata": {},
   "source": [
    "##### Data Normalization with respect to dataset timeline"
   ]
  },
  {
   "cell_type": "markdown",
   "metadata": {},
   "source": [
    "Our last processing step is to normalize our data in order to keep our features' values in a comparable range.\n",
    "\n",
    "In order to remain coherent with the timeline of the data, we normalize the data regarding the values seen during training in order to prevent a data leak from future information."
   ]
  },
  {
   "cell_type": "code",
   "execution_count": 27,
   "metadata": {
    "ExecuteTime": {
     "end_time": "2021-02-03T22:54:58.970620Z",
     "start_time": "2021-02-03T22:54:58.964407Z"
    }
   },
   "outputs": [],
   "source": [
    "def normalize_dataset(dataset, evaluation_year):\n",
    "    \"\"\"\n",
    "    Normalize dataset features in 0 to 1 range regarding the statistics computed strictly before the specified \n",
    "    evaluation year in order to prevent future data leaking.\n",
    "    \n",
    "    Inputs \n",
    "    --------\n",
    "    dataset : DataFrame : dataset to normalize\n",
    "    max_year : int : max year to consider to perform the normalization\n",
    "    \n",
    "    Returns \n",
    "    --------\n",
    "    normalized_dataset : DataFrame : normalized dataset computed with the statistics before the evaluation year.\n",
    "    \"\"\"\n",
    "    date = f'{evaluation_year}-01-01 00:00:00'\n",
    "    dataset_before_date = dataset.loc[dataset['date'] < Timestamp(date)]\n",
    "    data_before_date = dataset_before_date.loc[:, (~dataset_before_date.columns.isin(['date', 'player_1', 'player_2']))]\n",
    "    \n",
    "    data_min = data_before_date.min()\n",
    "    data_max = data_before_date.max()\n",
    "    data = dataset.loc[:, (~dataset.columns.isin(['date', 'player_1', 'player_2']))]\n",
    "    \n",
    "    normalized_data = (data - data_min) / (data_max - data_min)\n",
    "    \n",
    "    return normalized_data"
   ]
  },
  {
   "cell_type": "code",
   "execution_count": 28,
   "metadata": {
    "ExecuteTime": {
     "end_time": "2021-02-03T22:54:59.204753Z",
     "start_time": "2021-02-03T22:54:58.972875Z"
    }
   },
   "outputs": [],
   "source": [
    "# Normalize data \n",
    "normalize_data_2017 = normalize_dataset(dataset, evaluation_year=2017)\n",
    "normalize_data_2016 = normalize_dataset(dataset, evaluation_year=2016)"
   ]
  },
  {
   "cell_type": "code",
   "execution_count": 29,
   "metadata": {
    "ExecuteTime": {
     "end_time": "2021-02-03T22:54:59.210426Z",
     "start_time": "2021-02-03T22:54:59.207137Z"
    }
   },
   "outputs": [],
   "source": [
    "# Due to our random player attribution, in order to reproduce notebook best obtained results\n",
    "# Uncomment the following lines and load the saved datasets\n",
    "\n",
    "#normalize_data_2016 = pd.read_csv('normalize_data_2016.csv', index_col=[0])\n",
    "#normalize_data_2017 = pd.read_csv('normalize_data_2017.csv', index_col=[0])"
   ]
  },
  {
   "cell_type": "markdown",
   "metadata": {},
   "source": [
    "#### Modeling Phase"
   ]
  },
  {
   "cell_type": "markdown",
   "metadata": {},
   "source": [
    "In this section we explore 2 approaches to predict the outcome of tennis matchs given the previously engineered features.\n",
    "\n",
    "In order to respect the timeline of our dataset and to remain as close to the reality as possible, we divide our dataset in Train / Test sets regarding the **date** of the match. Indeed, if training on future data we can expect data leaking, corrupting the parameters learned by the model with future information.\n",
    "\n",
    "Our Modeling Phase if divided in 2 steps. A **Training/Validation** step for hyperparameters tuning where our model is trained on data from 2000 to end 2015 and validated on 2016. Once our model validated on 2016, during the **Training/Evaluation** step, we retrain it on data from 2000 to end 2016 using the best found configuration and evaluate its performance on data from 2017.\n",
    "\n",
    "1) A **Training/Validation** step:\n",
    "\n",
    "- **Train set**: matchs from 2000-2015\n",
    "- **Validation set**: matchs from 2016\n",
    "\n",
    "2) A **Training/Evaluation** step:\n",
    "\n",
    "- **Train set**: matchs from 2000-2016\n",
    "- **Test set**: matchs from 2017\n",
    "\n",
    "\n",
    "Given that our outcome class (0 when player 1 looses and 1 when he wins) is balanced, the performance metric that we will consider to evaluate the models' performance will be the **accuracy** of the predictions."
   ]
  },
  {
   "cell_type": "code",
   "execution_count": 30,
   "metadata": {
    "ExecuteTime": {
     "end_time": "2021-02-03T22:54:59.220618Z",
     "start_time": "2021-02-03T22:54:59.212735Z"
    }
   },
   "outputs": [],
   "source": [
    "def split_datasets(data, evaluation_year):\n",
    "    \"\"\"\n",
    "    Split the datasets regarding the desired evaluation year (2016 or 2017 in our case).\n",
    "    \n",
    "    Inputs \n",
    "    --------\n",
    "    data : DataFrame : data to split\n",
    "    evaluation_year : int : year to consider to perform the model's evaluation\n",
    "    \n",
    "    Returns \n",
    "    --------\n",
    "    train_set : np.ndarray : training dataset\n",
    "    y_train : np.ndarray : training labels\n",
    "    test_set : np.ndarray : validation dataset\n",
    "    y_test : np.ndarray : validation labels\n",
    "    \"\"\"\n",
    "    # Validation on year 2016\n",
    "    if evaluation_year == 2016:\n",
    "        evaluation_start_index = 44402   # index location where starts year 2016 in dataframe\n",
    "        evaluation_end_index = 47028     # index location where ends year 2016 in dataframe\n",
    "        \n",
    "    # Final evaluation on year 2017    \n",
    "    elif evaluation_year == 2017:\n",
    "        evaluation_start_index = 47028  # index location where starts year 2017 in dataframe\n",
    "        evaluation_end_index = 49663    # index location where ends year 2017 in dataframe\n",
    "        \n",
    "    else:\n",
    "        raise Exception(\"Wrong evaluation_year, must be either 2016 or 2017.\")\n",
    "        \n",
    "    train_indices = np.arange(0, evaluation_start_index)\n",
    "    train_set = data.drop(['outcome'], axis=1).loc[train_indices].values\n",
    "    y_train = data['outcome'].loc[train_indices].values\n",
    "    \n",
    "    test_indices = np.arange(evaluation_start_index, evaluation_end_index)\n",
    "    test_set = data.drop(['outcome'], axis=1).loc[test_indices].values\n",
    "    y_test = data['outcome'].loc[test_indices].values\n",
    "    \n",
    "    return train_set, y_train, test_set, y_test\n"
   ]
  },
  {
   "cell_type": "markdown",
   "metadata": {},
   "source": [
    "##### Training/Validation Logistic Regression"
   ]
  },
  {
   "cell_type": "markdown",
   "metadata": {},
   "source": [
    "In this section, we construct a simple baseline Logistic Regression model in order to have a rough baseline to compare our more complex approach."
   ]
  },
  {
   "cell_type": "code",
   "execution_count": 31,
   "metadata": {
    "ExecuteTime": {
     "end_time": "2021-02-03T22:55:00.179772Z",
     "start_time": "2021-02-03T22:54:59.223115Z"
    }
   },
   "outputs": [
    {
     "name": "stdout",
     "output_type": "stream",
     "text": [
      "Training Accuracy: 0.6908\n",
      "Validation Accuracy: 0.7018\n"
     ]
    }
   ],
   "source": [
    "X_train, y_train, X_val, y_val = split_datasets(normalize_data_2016, evaluation_year=2016)\n",
    "\n",
    "# Replace NaN values by the column mean value (Logistic Regression can't handle NaN values)\n",
    "imp = SimpleImputer(missing_values=np.nan, strategy='mean')\n",
    "imp.fit(X_train)\n",
    "SimpleImputer()\n",
    "\n",
    "# Logistic Regression model with defaults parameters\n",
    "logreg_clf = LogisticRegression(solver='liblinear', max_iter=100)\n",
    "logreg_clf.fit(imp.transform(X_train), y_train)\n",
    "\n",
    "y_pred_train = logreg_clf.predict(imp.transform(X_train))\n",
    "accuracy_train = round(accuracy_score(y_train, y_pred_train), 4)\n",
    "print(\"Training Accuracy:\", accuracy_train)\n",
    "\n",
    "y_pred_val = logreg_clf.predict(imp.transform(X_val))\n",
    "accuracy_val = round(accuracy_score(y_val, y_pred_val), 4)\n",
    "print(\"Validation Accuracy:\", accuracy_val)"
   ]
  },
  {
   "cell_type": "markdown",
   "metadata": {},
   "source": [
    "##### Training/Validation XGBoost"
   ]
  },
  {
   "cell_type": "markdown",
   "metadata": {},
   "source": [
    "For our more complex appraoch, we chose a Gradient Boosting algorithm. We used an open-source model XGBoost which have shown great results on different sets of structured datasets."
   ]
  },
  {
   "cell_type": "code",
   "execution_count": 32,
   "metadata": {
    "ExecuteTime": {
     "end_time": "2021-02-03T22:55:00.192067Z",
     "start_time": "2021-02-03T22:55:00.182152Z"
    }
   },
   "outputs": [],
   "source": [
    "def train_xgb(X_train, y_train, X_val, y_val, kwargs):\n",
    "    \"\"\"\n",
    "    Train XGBClassifier model on X_train and validate on X_val.\n",
    "    \n",
    "    Inputs \n",
    "    --------\n",
    "    X_train : np.ndarray : training dataset\n",
    "    y_train : np.ndarray : training labels\n",
    "    X_val : np.ndarray : validation dataset\n",
    "    y_val : np.ndarray : validation labels\n",
    "    kwargs : dict : data to split\n",
    "    \n",
    "    Returns \n",
    "    --------\n",
    "    lgb_clf : XGBClassifier : trained XGBClassifier on X_train\n",
    "    accuracy_val : float : the accuracy obtained on the validation set \n",
    "    \"\"\"\n",
    "    ########################\n",
    "    ####### Training #######\n",
    "    ######################## \n",
    "    xgb_clf = xgb.XGBClassifier(**kwargs)\n",
    "    xgb_clf.fit(X_train, y_train)\n",
    "    \n",
    "    y_pred_train = xgb_clf.predict(X_train)\n",
    "    accuracy_train = round(accuracy_score(y_train, y_pred_train), 4)\n",
    "    \n",
    "    ########################\n",
    "    ###### Validation ######\n",
    "    ########################\n",
    "    y_pred_val = xgb_clf.predict(X_val)\n",
    "    accuracy_val = round(accuracy_score(y_val, y_pred_val), 4)\n",
    "    \n",
    "    print(\"\")\n",
    "    print(\"Parameters:\", kwargs)\n",
    "    print(\"Training Accuracy:\", accuracy_train)\n",
    "    print(\"Validation Accuracy:\", accuracy_val)\n",
    "    print(\"\")\n",
    "    \n",
    "    return xgb_clf, accuracy_val\n",
    "\n",
    "\n",
    "def tune_hyperparameters(X_train, y_train, X_val, y_val, n_iterations):\n",
    "    \"\"\"\n",
    "    Perform a random search to tune the hyperparameters of XGBClassifier.\n",
    "    \n",
    "    Inputs \n",
    "    --------\n",
    "    X_train : np.ndarray : training dataset\n",
    "    y_train : np.ndarray : training labels\n",
    "    X_val : np.ndarray : validation dataset\n",
    "    y_val : np.ndarray : validation labels\n",
    "    n_iterations : int : number of iteration to perform the random search \n",
    "    \n",
    "    Returns \n",
    "    --------\n",
    "    best_model : LGBMClassifier : best trained XGBClassifier regarding its validation accuracy\n",
    "    best_params : dict : best found parameters regarding best_model validation accuracy\n",
    "    \"\"\"\n",
    "    best_accuracy = 0\n",
    "    for i in range(n_iterations):\n",
    "        print(\"\")\n",
    "        print('======== Iteration {:} / {:} ========'.format(i + 1, n_iterations))\n",
    "        print('Training...')\n",
    "\n",
    "        kwargs = {'objective': 'binary:logistic',\n",
    "                  'colsample_bytree': 0.3,                            #\n",
    "                  'subsample': random.choice([0.7, 1]),               #\n",
    "                  'max_depth': random.choice([6, 10, 15]),            # depth of weak learner\n",
    "                  'learning_rate': random.choice([0.1, 0.01, 0.001]), # the influence of weak learner on prediction\n",
    "                  'n_estimators': random.choice([100, 500, 1000]),    # number of weak learners\n",
    "                  'alpha': 1,                                         # L2 regulirization term to prevent overfitting\n",
    "                  'seed': 42}                    \n",
    "        \n",
    "        model, accuracy = train_xgb(X_train, y_train, X_val, y_val, kwargs)\n",
    "        \n",
    "        if accuracy > best_accuracy:\n",
    "            best_accuracy = accuracy\n",
    "            best_model = model\n",
    "            best_params = kwargs\n",
    "        \n",
    "    return best_model, best_params\n",
    "\n"
   ]
  },
  {
   "cell_type": "code",
   "execution_count": 33,
   "metadata": {
    "ExecuteTime": {
     "end_time": "2021-02-03T22:55:00.197967Z",
     "start_time": "2021-02-03T22:55:00.194449Z"
    },
    "scrolled": true
   },
   "outputs": [],
   "source": [
    "# The tune_hyperparameters() function was run on 50 iterations to find the following best parameters.\n",
    "\n",
    "#X_train, y_train, X_val, y_val = split_datasets(normalize_data_2016, evaluation_year=2016)\n",
    "#best_model, best_params = tune_hyperparameters(X_train, y_train, X_val, y_val, n_iterations=50)"
   ]
  },
  {
   "cell_type": "code",
   "execution_count": 34,
   "metadata": {
    "ExecuteTime": {
     "end_time": "2021-02-03T22:56:10.561254Z",
     "start_time": "2021-02-03T22:55:00.200802Z"
    }
   },
   "outputs": [
    {
     "name": "stderr",
     "output_type": "stream",
     "text": [
      "/Users/matyasamrouche/Documents/Entretiens/Javaness/javaness_env/lib/python3.6/site-packages/xgboost/sklearn.py:888: UserWarning: The use of label encoder in XGBClassifier is deprecated and will be removed in a future release. To remove this warning, do the following: 1) Pass option use_label_encoder=False when constructing XGBClassifier object; and 2) Encode your labels (y) as integers starting with 0, i.e. 0, 1, 2, ..., [num_class - 1].\n",
      "  warnings.warn(label_encoder_deprecation_msg, UserWarning)\n"
     ]
    },
    {
     "name": "stdout",
     "output_type": "stream",
     "text": [
      "[23:55:00] WARNING: /Users/travis/build/dmlc/xgboost/src/learner.cc:1061: Starting in XGBoost 1.3.0, the default evaluation metric used with the objective 'binary:logistic' was changed from 'error' to 'logloss'. Explicitly set eval_metric if you'd like to restore the old behavior.\n",
      "\n",
      "Parameters: {'objective': 'binary:logistic', 'colsample_bytree': 1, 'subsample': 1, 'max_depth': 6, 'learning_rate': 0.01, 'n_estimators': 500, 'alpha': 1, 'seed': 42}\n",
      "Training Accuracy: 0.7141\n",
      "Validation Accuracy: 0.706\n",
      "\n"
     ]
    }
   ],
   "source": [
    "best_params = {'objective': 'binary:logistic',\n",
    "               'colsample_bytree': 1,\n",
    "               'subsample': 1,\n",
    "               'max_depth': 6,\n",
    "               'learning_rate': 0.01,\n",
    "               'n_estimators': 500,\n",
    "               'alpha': 1,\n",
    "               'seed': 42}\n",
    "\n",
    "\n",
    "# For the validation step, we use the dataset normalized regarding the evaluation year 2016\n",
    "X_train, y_train, X_val, y_val = split_datasets(normalize_data_2016, evaluation_year=2016)\n",
    "\n",
    "# Train on 2000 to 2015 included and Validate on 2016\n",
    "best_model, best_accuracy = train_xgb(X_train, y_train, X_val, y_val, kwargs=best_params)"
   ]
  },
  {
   "cell_type": "code",
   "execution_count": 35,
   "metadata": {
    "ExecuteTime": {
     "end_time": "2021-02-03T22:56:10.568283Z",
     "start_time": "2021-02-03T22:56:10.565112Z"
    }
   },
   "outputs": [],
   "source": [
    "# Save model to reproduce results\n",
    "#pickle.dump(best_model, open(\"best_model.pkl\", \"wb\"))"
   ]
  },
  {
   "cell_type": "code",
   "execution_count": 36,
   "metadata": {
    "ExecuteTime": {
     "end_time": "2021-02-03T22:56:10.577394Z",
     "start_time": "2021-02-03T22:56:10.570879Z"
    }
   },
   "outputs": [
    {
     "data": {
      "text/plain": [
       "'best_model = pickle.load(open(\"best_model.pkl\", \"rb\"))\\n\\nX_train, y_train, X_val, y_val = split_datasets(normalize_data_2016, evaluation_year=2016)\\n\\ny_pred_train = best_model.predict(X_train)\\naccuracy_train = round(accuracy_score(y_train, y_pred_train), 4)\\n\\ny_pred_val = best_model.predict(X_val)\\naccuracy_val = round(accuracy_score(y_val, y_pred_val), 4)\\n\\nprint(\"Training Accuracy:\", accuracy_train)\\nprint(\"Validation Accuracy:\", accuracy_val)'"
      ]
     },
     "execution_count": 36,
     "metadata": {},
     "output_type": "execute_result"
    }
   ],
   "source": [
    "# To repoduce results, due to the randomness of tree creation in XGBoost, load the best saved model\n",
    "\n",
    "\n",
    "#best_model = pickle.load(open(\"best_model.pkl\", \"rb\"))\n",
    "#X_train, y_train, X_val, y_val = split_datasets(normalize_data_2016, evaluation_year=2016)\n",
    "#y_pred_train = best_model.predict(X_train)\n",
    "#accuracy_train = round(accuracy_score(y_train, y_pred_train), 4)\n",
    "#y_pred_val = best_model.predict(X_val)\n",
    "#accuracy_val = round(accuracy_score(y_val, y_pred_val), 4)\n",
    "\n",
    "#print(\"Training Accuracy:\", accuracy_train)\n",
    "#print(\"Validation Accuracy:\", accuracy_val)\"\"\""
   ]
  },
  {
   "cell_type": "markdown",
   "metadata": {},
   "source": [
    "The XGBClassifier is able to reach a higher accuracy (on average over all our different runs) on the validation dataset than our simple Logistic Regression approach. On top of that, Logistic Regression can't handle missing values and need replacement values, which can be source of bias for our model.\n",
    "\n",
    "Besides, given that the training accuracy is quite close to the validation and setting a L2 regularization parameter we can expect a model robust to overfitting and able to generalize well.\n",
    "\n",
    "**We select the XGBClassifier as our final model.**"
   ]
  },
  {
   "cell_type": "markdown",
   "metadata": {},
   "source": [
    "##### Training/Evaluation on Test set"
   ]
  },
  {
   "cell_type": "markdown",
   "metadata": {},
   "source": [
    "For the final Evaluation **predicting the matchs' outcomes of year 2017**, we retrain our LighGBM model on the data from 2000 to 2016 (2016 included this time) using the best hyperparameters found during the previous Validation phase."
   ]
  },
  {
   "cell_type": "code",
   "execution_count": 37,
   "metadata": {
    "ExecuteTime": {
     "end_time": "2021-02-03T22:57:25.558291Z",
     "start_time": "2021-02-03T22:56:10.580313Z"
    }
   },
   "outputs": [
    {
     "name": "stderr",
     "output_type": "stream",
     "text": [
      "/Users/matyasamrouche/Documents/Entretiens/Javaness/javaness_env/lib/python3.6/site-packages/xgboost/sklearn.py:888: UserWarning: The use of label encoder in XGBClassifier is deprecated and will be removed in a future release. To remove this warning, do the following: 1) Pass option use_label_encoder=False when constructing XGBClassifier object; and 2) Encode your labels (y) as integers starting with 0, i.e. 0, 1, 2, ..., [num_class - 1].\n",
      "  warnings.warn(label_encoder_deprecation_msg, UserWarning)\n"
     ]
    },
    {
     "name": "stdout",
     "output_type": "stream",
     "text": [
      "[23:56:10] WARNING: /Users/travis/build/dmlc/xgboost/src/learner.cc:1061: Starting in XGBoost 1.3.0, the default evaluation metric used with the objective 'binary:logistic' was changed from 'error' to 'logloss'. Explicitly set eval_metric if you'd like to restore the old behavior.\n",
      "\n",
      "Parameters: {'objective': 'binary:logistic', 'colsample_bytree': 1, 'subsample': 1, 'max_depth': 6, 'learning_rate': 0.01, 'n_estimators': 500, 'alpha': 1, 'seed': 42}\n",
      "Training Accuracy: 0.713\n",
      "Validation Accuracy: 0.6793\n",
      "\n"
     ]
    }
   ],
   "source": [
    "# For the final evaluation, we use the dataset normalized regarding the evaluation year 2017\n",
    "X_train, y_train, X_test, y_test = split_datasets(normalize_data_2017, evaluation_year=2017)\n",
    "\n",
    "# Train on 2000 to 2016 included and Test on 2017\n",
    "final_model, final_accuracy = train_xgb(X_train, y_train, X_test, y_test, kwargs=best_params)"
   ]
  },
  {
   "cell_type": "code",
   "execution_count": 38,
   "metadata": {
    "ExecuteTime": {
     "end_time": "2021-02-03T22:57:25.565138Z",
     "start_time": "2021-02-03T22:57:25.561888Z"
    }
   },
   "outputs": [],
   "source": [
    "# Save model to reproduce results\n",
    "#pickle.dump(final_model, open(\"final_model.pkl\", \"wb\"))"
   ]
  },
  {
   "cell_type": "code",
   "execution_count": 39,
   "metadata": {
    "ExecuteTime": {
     "end_time": "2021-02-03T22:57:25.574510Z",
     "start_time": "2021-02-03T22:57:25.568274Z"
    }
   },
   "outputs": [
    {
     "data": {
      "text/plain": [
       "'final_model = pickle.load(open(\"final_model.pkl\", \"rb\"))\\n\\nX_train, y_train, X_test, y_test = split_datasets(normalize_data_2017, evaluation_year=2017)\\n\\ny_pred_train = final_model.predict(X_train)\\naccuracy_train = round(accuracy_score(y_train, y_pred_train), 4)\\n\\ny_pred_test = final_model.predict(X_test)\\naccuracy_test = round(accuracy_score(y_test, y_pred_test), 4)\\n\\nprint(\"Training Accuracy:\", accuracy_train)\\nprint(\"Validation Accuracy:\", accuracy_test)'"
      ]
     },
     "execution_count": 39,
     "metadata": {},
     "output_type": "execute_result"
    }
   ],
   "source": [
    "# To repoduce best results uncoment the following lines\n",
    "\n",
    "\n",
    "#final_model = pickle.load(open(\"final_model.pkl\", \"rb\"))\n",
    "\n",
    "#X_train, y_train, X_test, y_test = split_datasets(normalize_data_2017, evaluation_year=2017)\n",
    "\n",
    "#y_pred_train = final_model.predict(X_train)\n",
    "#accuracy_train = round(accuracy_score(y_train, y_pred_train), 4)\n",
    "\n",
    "#y_pred_test = final_model.predict(X_test)\n",
    "#accuracy_test = round(accuracy_score(y_test, y_pred_test), 4)\n",
    "\n",
    "#print(\"Training Accuracy:\", accuracy_train)\n",
    "#print(\"Validation Accuracy:\", accuracy_test)\n"
   ]
  },
  {
   "cell_type": "markdown",
   "metadata": {},
   "source": [
    "**Our final model would have predicted the Tennis matchs' outcome of 2017 with 68% accuracy.**"
   ]
  },
  {
   "cell_type": "markdown",
   "metadata": {},
   "source": [
    "#### Observation/Explanation"
   ]
  },
  {
   "cell_type": "markdown",
   "metadata": {},
   "source": [
    "In this section, we inspect the most important discriminative features and erros of our model.\n",
    "\n",
    "Given that we want to use our final model prediction's for a betting strategy on 2017 matchs, we focus on the results of our best model trained on data from 2000 to end 2015 and validated on 2016 in order to simulate a real life situation. Indeed, by following this approach, the found results won't be corrupted by leaking information from year 2017. "
   ]
  },
  {
   "cell_type": "code",
   "execution_count": 40,
   "metadata": {
    "ExecuteTime": {
     "end_time": "2021-02-03T22:57:25.634922Z",
     "start_time": "2021-02-03T22:57:25.577457Z"
    }
   },
   "outputs": [],
   "source": [
    "X_train, y_train, X_val, y_val = split_datasets(normalize_data_2016, evaluation_year=2016)\n"
   ]
  },
  {
   "cell_type": "markdown",
   "metadata": {},
   "source": [
    "##### Features Importance"
   ]
  },
  {
   "cell_type": "code",
   "execution_count": 41,
   "metadata": {
    "ExecuteTime": {
     "end_time": "2021-02-03T22:57:26.889438Z",
     "start_time": "2021-02-03T22:57:25.637558Z"
    },
    "scrolled": true
   },
   "outputs": [
    {
     "data": {
      "text/plain": [
       "Text(0.5, 1.0, 'LightGBM Features (avg over folds)')"
      ]
     },
     "execution_count": 41,
     "metadata": {},
     "output_type": "execute_result"
    },
    {
     "data": {
      "image/png": "[encoded data removed]",
      "text/plain": [
       "<Figure size 1440x720 with 1 Axes>"
      ]
     },
     "metadata": {
      "needs_background": "light"
     },
     "output_type": "display_data"
    }
   ],
   "source": [
    "feature_imp = pd.DataFrame(sorted(zip(best_model.feature_importances_, normalize_data_2016.columns)), columns=['Value','Feature'])\n",
    "\n",
    "plt.figure(figsize=(20, 10))\n",
    "sns.barplot(x=\"Value\", y=\"Feature\", data=feature_imp.sort_values(by=\"Value\", ascending=False))\n",
    "plt.title('XGBoost Features (avg over folds)')\n"
   ]
  },
  {
   "cell_type": "markdown",
   "metadata": {},
   "source": [
    "Regarding the top 5 features importance ploted (on average over several runs) from our trained XGBClassifier, we can view the model's logic when making prediction:\n",
    "- 1) The player's **Max odds**.\n",
    "- 2) The player's **Avg odds**.\n",
    "- 3) With no surpise the players' **rank** is the most important determinant feature.\n",
    "- 4) The players' global win rate associated.\n",
    "- 4) The player's past won sets on average.\n",
    "\n",
    "Odds are discriminative, meaning that bookmakers' predictions matter a lot. And that's why it is interesting to try to build a betting strategy to beat them."
   ]
  },
  {
   "cell_type": "markdown",
   "metadata": {},
   "source": [
    "##### Errors analysis"
   ]
  },
  {
   "cell_type": "code",
   "execution_count": 42,
   "metadata": {
    "ExecuteTime": {
     "end_time": "2021-02-03T22:57:27.209936Z",
     "start_time": "2021-02-03T22:57:26.891268Z"
    }
   },
   "outputs": [
    {
     "name": "stdout",
     "output_type": "stream",
     "text": [
      "[[0.72083981 0.27916019]\n",
      " [0.30820896 0.69179104]]\n"
     ]
    },
    {
     "data": {
      "image/png": "[encoded data removed]",
      "text/plain": [
       "<Figure size 432x288 with 2 Axes>"
      ]
     },
     "metadata": {
      "needs_background": "light"
     },
     "output_type": "display_data"
    }
   ],
   "source": [
    "title = \"Normalized confusion matrix\"\n",
    "\n",
    "conf_matrix = plot_confusion_matrix(best_model, X_val, y_val, cmap=plt.cm.Blues, normalize='true')\n",
    "conf_matrix.ax_.set_title(title)\n",
    "\n",
    "print(conf_matrix.confusion_matrix)"
   ]
  },
  {
   "cell_type": "markdown",
   "metadata": {},
   "source": [
    "As expected, the randomness of the player order in the dataset makes the model robust to classes mispredictions."
   ]
  },
  {
   "cell_type": "code",
   "execution_count": 43,
   "metadata": {
    "ExecuteTime": {
     "end_time": "2021-02-03T22:57:27.562706Z",
     "start_time": "2021-02-03T22:57:27.216144Z"
    }
   },
   "outputs": [
    {
     "data": {
      "text/plain": [
       "<AxesSubplot:title={'center':\"Confidence probability of model's predictions\"}, ylabel='Density'>"
      ]
     },
     "execution_count": 43,
     "metadata": {},
     "output_type": "execute_result"
    },
    {
     "data": {
      "image/png": "[encoded data removed]",
      "text/plain": [
       "<Figure size 432x288 with 1 Axes>"
      ]
     },
     "metadata": {
      "needs_background": "light"
     },
     "output_type": "display_data"
    }
   ],
   "source": [
    "y_pred_val = best_model.predict(X_val)\n",
    "y_pred_proba = best_model.predict_proba(X_val)\n",
    "\n",
    "true_prediction_confidence = np.max(y_pred_proba[y_pred_val == y_val], axis=1)\n",
    "false_prediction_confidence = np.max(y_pred_proba[y_pred_val != y_val], axis=1)\n",
    "\n",
    "\n",
    "title = \"Confidence probability of model's predictions\"\n",
    "sns.distplot(true_prediction_confidence , color=\"skyblue\", label=\"True prediction\").set_title(title)\n",
    "sns.distplot(false_prediction_confidence , color=\"red\", label=\"False prediction\")\n"
   ]
  },
  {
   "cell_type": "markdown",
   "metadata": {},
   "source": [
    "From this graph we can deduce that our model's confidence tend to be more reliable over a certain confidence threshold, **0.58**. We will "
   ]
  },
  {
   "cell_type": "markdown",
   "metadata": {},
   "source": [
    "#### Trying to make € out of our Tennis predictor"
   ]
  },
  {
   "cell_type": "markdown",
   "metadata": {},
   "source": [
    "Our dataset is made of decimal odds, meaning that if I bet 1€ on Federer .R with a odd of 1.5 and win my bet, I take back 1.5€. Otherwise, I loose my initial 1€ bet."
   ]
  },
  {
   "cell_type": "markdown",
   "metadata": {},
   "source": [
    "In this section, we will use our model's prediction to build a strategy bet on the unseen Tennis matchs of 2017.\n",
    "\n",
    "To do so, we apply the following strategy on all 2017 matchs:\n",
    "- **Step 1**: look at the confidence of our prediction on a given match, if this confidence is above a specified threshold (0.58) we bet and go to Step 2, otherwise we don't and wait for the next match and retake Step 1.\n",
    "- **Step 2**: choose the bookmaker that offers the best odds with respect to the maximization of our expected gain.\n",
    "\n",
    "\n",
    "Let's see our cumulative gain applying this strategy on 2017 matchs."
   ]
  },
  {
   "cell_type": "code",
   "execution_count": 44,
   "metadata": {
    "ExecuteTime": {
     "end_time": "2021-02-03T22:57:27.674527Z",
     "start_time": "2021-02-03T22:57:27.565101Z"
    }
   },
   "outputs": [],
   "source": [
    "_, _, X_test, y_test = split_datasets(normalize_data_2017, evaluation_year=2017)"
   ]
  },
  {
   "cell_type": "code",
   "execution_count": 46,
   "metadata": {
    "ExecuteTime": {
     "end_time": "2021-02-03T22:57:28.012581Z",
     "start_time": "2021-02-03T22:57:27.688978Z"
    },
    "scrolled": true
   },
   "outputs": [
    {
     "name": "stdout",
     "output_type": "stream",
     "text": [
      "Profit made with initial strategy for 222 bets of 10€: -71.6\n"
     ]
    }
   ],
   "source": [
    "start_index_2017 = 47028\n",
    "\n",
    "def get_predicted_winner_max_odds(i, prediction):\n",
    "    # we predict player 1 as winner\n",
    "    if prediction == 1:\n",
    "        predicted_winner = dataset.loc[start_index_2017 + i]['player_1']\n",
    "\n",
    "    # we predict player 2 as winner \n",
    "    else:\n",
    "        predicted_winner = dataset.loc[start_index_2017 + i]['player_2']\n",
    "        \n",
    "    if df_atp.loc[start_index_2017 + i]['Winner'] == predicted_winner:\n",
    "        max_odds = df_atp.loc[start_index_2017 + i]['MaxW']\n",
    "        return max_odds\n",
    "    \n",
    "    if df_atp.loc[start_index_2017 + i]['Loser'] == predicted_winner:\n",
    "        max_odds = df_atp.loc[start_index_2017 + i]['MaxL']\n",
    "        return max_odds\n",
    "        \n",
    "\n",
    "\n",
    "\n",
    "\n",
    "betting_threshold = 0.9\n",
    "betting_value = 10\n",
    "cumulative_profit = 0\n",
    "count_bet = 0\n",
    "\n",
    "predictions = final_model.predict(X_test)\n",
    "predictions_proba = np.max(final_model.predict_proba(X_test), axis=1)\n",
    "\n",
    "# Initial strategy\n",
    "for i, proba in enumerate(predictions_proba):\n",
    "    if proba >= betting_threshold:\n",
    "        #print(\"i\")\n",
    "        count_bet += 1\n",
    "        \n",
    "        # we systematically choose the max odds in order to maximize our profit\n",
    "        max_odds = get_predicted_winner_max_odds(i, predictions[i])\n",
    "           \n",
    "        # when max_odds is not available\n",
    "        if np.isnan(max_odds):\n",
    "            continue\n",
    "        \n",
    "        # Correct prediction\n",
    "        if predictions[i] == y_test[i]:\n",
    "            cumulative_profit += (betting_value * max_odds) - betting_value\n",
    "            \n",
    "        # Incorrect prediction\n",
    "        else:\n",
    "            cumulative_profit -= betting_value\n",
    "\n",
    "print(f\"Profit made with initial strategy for {count_bet} bets of 10€:\", round(cumulative_profit, 4), \"€\")"
   ]
  },
  {
   "cell_type": "markdown",
   "metadata": {},
   "source": [
    "----"
   ]
  },
  {
   "cell_type": "markdown",
   "metadata": {},
   "source": [
    "Another strategy could be to bet less and look at interesting odds (high odds).\n",
    "\n",
    "For every match do: \n",
    "- Look at the max odds of a match, if the odds is interesting (>=2) we bet according to our model's prediction. Otherwise, we don't bet and wait for next match."
   ]
  },
  {
   "cell_type": "code",
   "execution_count": 47,
   "metadata": {
    "ExecuteTime": {
     "end_time": "2021-02-03T22:57:30.787581Z",
     "start_time": "2021-02-03T22:57:28.015891Z"
    }
   },
   "outputs": [
    {
     "name": "stdout",
     "output_type": "stream",
     "text": [
      "Profit made with second strategy for 71 bets of 10€: 101.8\n"
     ]
    }
   ],
   "source": [
    "betting_value = 10\n",
    "cumulative_profit = 0\n",
    "count_bet = 0\n",
    "\n",
    "predictions = final_model.predict(X_test)\n",
    "predictions_proba = np.max(final_model.predict_proba(X_test), axis=1)\n",
    "\n",
    "# Second strategy\n",
    "for i, proba in enumerate(predictions_proba):\n",
    "    max_odds = get_predicted_winner_max_odds(i, predictions[i])\n",
    "    \n",
    "    # when max_odds is not available\n",
    "    if np.isnan(max_odds):\n",
    "            continue\n",
    "            \n",
    "    if max_odds >= 2:  \n",
    "        count_bet += 1\n",
    "        # Correct prediction\n",
    "        if predictions[i] == y_test[i]:\n",
    "            cumulative_profit += (betting_value * max_odds) - betting_value\n",
    "\n",
    "        # Incorrect prediction\n",
    "        else:\n",
    "            cumulative_profit -= betting_value\n",
    "\n",
    "print(f\"Profit made with second strategy for {count_bet} bets of 10€:\", round(cumulative_profit, 4), \"€\")"
   ]
  },
  {
   "cell_type": "markdown",
   "metadata": {},
   "source": [
    "#### Potential improvements"
   ]
  },
  {
   "cell_type": "markdown",
   "metadata": {
    "ExecuteTime": {
     "end_time": "2021-02-02T15:30:48.432291Z",
     "start_time": "2021-02-02T15:30:48.423926Z"
    }
   },
   "source": [
    "Further features engineering:\n",
    "- Head-to-head statistics. Indeed, the specific statistics between two players may be relevant. For instance, Federer R. seems to have specific issue winning againts Nadal R. at Roland Garros.\n",
    "- Track bookmaker's odds reliability regarding their past prediction to weight their importance in the model predictions.\n",
    "- Use external source of structured data like weather or detailed player's statistics such as number of aces, winning shots, passing shots...\n",
    "- Use external source of unstructured data like player's interview, coach's interview or social media posts that might give insight about the mental state, the shape or fatigue of a player before a match."
   ]
  },
  {
   "cell_type": "markdown",
   "metadata": {},
   "source": [
    "----"
   ]
  },
  {
   "cell_type": "markdown",
   "metadata": {},
   "source": [
    "Different modelisation approach:\n",
    "- Explore different models (random forest, neural networks, stacking models...).\n",
    "- Reframe the dataset as a pure Time Series problem, trying to use RNN approach in order to alleviate our heavily handmade engineered features and take into account the new match statistics on the fly.\n"
   ]
  }
 ],
 "metadata": {
  "hide_input": false,
  "kernelspec": {
   "display_name": "javaness_env",
   "language": "python",
   "name": "javaness_env"
  },
  "language_info": {
   "codemirror_mode": {
    "name": "ipython",
    "version": 3
   },
   "file_extension": ".py",
   "mimetype": "text/x-python",
   "name": "python",
   "nbconvert_exporter": "python",
   "pygments_lexer": "ipython3",
   "version": "3.6.7"
  },
  "toc": {
   "base_numbering": 1,
   "nav_menu": {},
   "number_sections": true,
   "sideBar": true,
   "skip_h1_title": false,
   "title_cell": "Table of Contents",
   "title_sidebar": "Contents",
   "toc_cell": false,
   "toc_position": {
    "height": "calc(100% - 180px)",
    "left": "10px",
    "top": "150px",
    "width": "426.667px"
   },
   "toc_section_display": true,
   "toc_window_display": true
  }
 },
 "nbformat": 4,
 "nbformat_minor": 2
}
